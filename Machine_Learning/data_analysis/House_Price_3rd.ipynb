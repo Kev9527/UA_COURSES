{
 "cells": [
  {
   "cell_type": "markdown",
   "id": "bbc08faf",
   "metadata": {},
   "source": [
    "# Preparation"
   ]
  },
  {
   "cell_type": "code",
   "execution_count": 3,
   "id": "1fd00948",
   "metadata": {},
   "outputs": [],
   "source": [
    "import pandas as pd\n",
    "import numpy as np\n",
    "from sklearn_pandas import DataFrameMapper\n",
    "from sklearn.model_selection import train_test_split, KFold, GridSearchCV, cross_val_score\n",
    "from sklearn.pipeline import Pipeline\n",
    "from sklearn.impute import SimpleImputer\n",
    "from sklearn.ensemble import RandomForestRegressor\n",
    "from sklearn.preprocessing import OneHotEncoder\n",
    "from feature_engine.imputation import CategoricalImputer\n",
    "from sklearn.base import BaseEstimator,TransformerMixin"
   ]
  },
  {
   "cell_type": "code",
   "execution_count": 4,
   "id": "52f13f99",
   "metadata": {},
   "outputs": [
    {
     "name": "stdout",
     "output_type": "stream",
     "text": [
      "The shape of train: (1460, 80)\n",
      "The shape of test: (1459, 79)\n"
     ]
    }
   ],
   "source": [
    "# load train and test data\n",
    "train_raw = pd.read_csv(\"./house-prices-advanced-regression-techniques/train.csv\", index_col='Id')\n",
    "test_raw = pd.read_csv(\"./house-prices-advanced-regression-techniques/test.csv\", index_col='Id')\n",
    "print(\"The shape of train: {}\".format(train_raw.shape))\n",
    "print(\"The shape of test: {}\".format(test_raw.shape))"
   ]
  },
  {
   "cell_type": "markdown",
   "id": "32091e25",
   "metadata": {},
   "source": [
    "# Check Data"
   ]
  },
  {
   "cell_type": "markdown",
   "id": "046af625",
   "metadata": {},
   "source": [
    "## Tools for showing missing data"
   ]
  },
  {
   "cell_type": "code",
   "execution_count": 5,
   "id": "02e03176",
   "metadata": {},
   "outputs": [],
   "source": [
    "## getColInfo shows a table with column names and their dtypes and the number of unique values\n",
    "## you can set parameter dtype and cardinality_threshold to show columns you want\n",
    "## it can be used to check how many categories a column has for the reference of \n",
    "## choosing methods of encoding categorical variables.\n",
    "def getColInfo(train, dtype=None, cardinality_threshold=0):\n",
    "    train_dtypes = [train[dt].dtype for dt in train.columns]\n",
    "    nuniques = [train[col].nunique() for col in train.columns]\n",
    "    res = pd.DataFrame({'Columns Names': train.columns,\n",
    "                                 'Dtypes': train_dtypes,\n",
    "                                 'Unique Value Numbers': nuniques })\n",
    "    if dtype != None:\n",
    "        res = res.loc[res['Dtypes']==dtype]\n",
    "    res = pd.DataFrame(res.loc[res['Unique Value Numbers'] >= cardinality_threshold])\n",
    "    return(res.sort_values(by=['Unique Value Numbers'], axis=0))\n",
    "\n",
    "## getMissingData shows the percentage of columns that contain missing data\n",
    "def getMissingData(train):\n",
    "    all_data_na = (train.isnull().sum() / len(train)) * 100\n",
    "    all_data_na = all_data_na.drop(all_data_na[all_data_na == 0].index).sort_values(ascending=False)\n",
    "    all_data_na_dtypes = [train[dt].dtype for dt in all_data_na.index]\n",
    "    nuniques = train[all_data_na.index].nunique()\n",
    "    missing_data = pd.DataFrame({'Dtypes': all_data_na_dtypes,\n",
    "                                 'Missing Ratio' : all_data_na,\n",
    "                                 'Unique Value Numbers': nuniques })\n",
    "    if missing_data.shape[0] == 0:\n",
    "        return(\"no missing vlaue\")\n",
    "    return(missing_data)"
   ]
  },
  {
   "cell_type": "code",
   "execution_count": 6,
   "id": "8fa64d6b",
   "metadata": {},
   "outputs": [
    {
     "data": {
      "text/html": [
       "<div>\n",
       "<style scoped>\n",
       "    .dataframe tbody tr th:only-of-type {\n",
       "        vertical-align: middle;\n",
       "    }\n",
       "\n",
       "    .dataframe tbody tr th {\n",
       "        vertical-align: top;\n",
       "    }\n",
       "\n",
       "    .dataframe thead th {\n",
       "        text-align: right;\n",
       "    }\n",
       "</style>\n",
       "<table border=\"1\" class=\"dataframe\">\n",
       "  <thead>\n",
       "    <tr style=\"text-align: right;\">\n",
       "      <th></th>\n",
       "      <th>Columns Names</th>\n",
       "      <th>Dtypes</th>\n",
       "      <th>Unique Value Numbers</th>\n",
       "    </tr>\n",
       "  </thead>\n",
       "  <tbody>\n",
       "    <tr>\n",
       "      <th>22</th>\n",
       "      <td>Exterior1st</td>\n",
       "      <td>object</td>\n",
       "      <td>15</td>\n",
       "    </tr>\n",
       "    <tr>\n",
       "      <th>23</th>\n",
       "      <td>Exterior2nd</td>\n",
       "      <td>object</td>\n",
       "      <td>16</td>\n",
       "    </tr>\n",
       "    <tr>\n",
       "      <th>11</th>\n",
       "      <td>Neighborhood</td>\n",
       "      <td>object</td>\n",
       "      <td>25</td>\n",
       "    </tr>\n",
       "  </tbody>\n",
       "</table>\n",
       "</div>"
      ],
      "text/plain": [
       "   Columns Names  Dtypes  Unique Value Numbers\n",
       "22   Exterior1st  object                    15\n",
       "23   Exterior2nd  object                    16\n",
       "11  Neighborhood  object                    25"
      ]
     },
     "execution_count": 6,
     "metadata": {},
     "output_type": "execute_result"
    }
   ],
   "source": [
    "getColInfo(train_raw, dtype='object', cardinality_threshold=10)"
   ]
  },
  {
   "cell_type": "code",
   "execution_count": 7,
   "id": "b2b83c70",
   "metadata": {},
   "outputs": [
    {
     "data": {
      "text/plain": [
       "pandas.core.indexes.base.Index"
      ]
     },
     "execution_count": 7,
     "metadata": {},
     "output_type": "execute_result"
    }
   ],
   "source": [
    "ob = getMissingData(train_raw)\n",
    "type(ob.loc[ob['Missing Ratio']>5].index)"
   ]
  },
  {
   "cell_type": "markdown",
   "id": "7fa21e31",
   "metadata": {},
   "source": [
    "# Preprocessing"
   ]
  },
  {
   "cell_type": "markdown",
   "id": "de8390a0",
   "metadata": {},
   "source": [
    "## Split Training Data"
   ]
  },
  {
   "cell_type": "code",
   "execution_count": 8,
   "id": "7bc65038",
   "metadata": {},
   "outputs": [],
   "source": [
    "X_train, X_valid, y_train, y_valid = train_test_split(train_raw.drop('SalePrice', axis=1), \n",
    "                                                      train_raw['SalePrice'], \n",
    "                                                      test_size=0.1, \n",
    "                                                      random_state=99)"
   ]
  },
  {
   "cell_type": "code",
   "execution_count": 9,
   "id": "6d30ce7f",
   "metadata": {},
   "outputs": [
    {
     "data": {
      "text/plain": [
       "(1314, 79)"
      ]
     },
     "execution_count": 9,
     "metadata": {},
     "output_type": "execute_result"
    }
   ],
   "source": [
    "X_train.shape"
   ]
  },
  {
   "cell_type": "markdown",
   "id": "39b28529",
   "metadata": {},
   "source": [
    "## Delete Unwanted Columns "
   ]
  },
  {
   "cell_type": "markdown",
   "id": "d053be8c",
   "metadata": {},
   "source": [
    "### Deletion Strategy"
   ]
  },
  {
   "cell_type": "code",
   "execution_count": 10,
   "id": "90bee869",
   "metadata": {},
   "outputs": [],
   "source": [
    "## define a class to filter unwanted columns\n",
    "class ColumnFilter(BaseEstimator, TransformerMixin):\n",
    "    \n",
    "    def __init__(self, threshold=0):\n",
    "        super().__init__()\n",
    "        self.threshold = threshold\n",
    "        self.col_names_deleted = []\n",
    "        \n",
    "    def fit(self, X, y=None):\n",
    "        missing_df = self.get_missing_data(X, self.threshold)\n",
    "        self.col_names_deleted = missing_df.index\n",
    "        return self\n",
    "    \n",
    "    def transform(self, X, y=None):\n",
    "        return(X.drop(columns=self.col_names_deleted))\n",
    "        \n",
    "        \n",
    "    def get_missing_data(self, X, threshold):\n",
    "        all_data_na = (X.isnull().sum() / len(X)) * 100\n",
    "        all_data_na = all_data_na.drop(all_data_na[all_data_na == 0].index).sort_values(ascending=False)\n",
    "        all_data_na_dtypes = [X[dt].dtype for dt in all_data_na.index]\n",
    "        nuniques = X[all_data_na.index].nunique()\n",
    "        missing_data = pd.DataFrame({'Dtypes': all_data_na_dtypes,\n",
    "                                 'Missing Ratio' : all_data_na,\n",
    "                                 'Unique Value Numbers': nuniques })\n",
    "        return(missing_data.loc[missing_data['Missing Ratio'] >= self.threshold])\n",
    "    "
   ]
  },
  {
   "cell_type": "code",
   "execution_count": 11,
   "id": "0674a5bd",
   "metadata": {},
   "outputs": [
    {
     "data": {
      "text/plain": [
       "(1314, 68)"
      ]
     },
     "execution_count": 11,
     "metadata": {},
     "output_type": "execute_result"
    }
   ],
   "source": [
    "# test\n",
    "# drop all the columns if their missing ration is greater than 5%\n",
    "cf = ColumnFilter(5)\n",
    "X_train_transformed = cf.fit_transform(X_train)\n",
    "X_train_transformed.shape\n"
   ]
  },
  {
   "cell_type": "code",
   "execution_count": 12,
   "id": "f27c0a5e",
   "metadata": {},
   "outputs": [
    {
     "data": {
      "text/html": [
       "<div>\n",
       "<style scoped>\n",
       "    .dataframe tbody tr th:only-of-type {\n",
       "        vertical-align: middle;\n",
       "    }\n",
       "\n",
       "    .dataframe tbody tr th {\n",
       "        vertical-align: top;\n",
       "    }\n",
       "\n",
       "    .dataframe thead th {\n",
       "        text-align: right;\n",
       "    }\n",
       "</style>\n",
       "<table border=\"1\" class=\"dataframe\">\n",
       "  <thead>\n",
       "    <tr style=\"text-align: right;\">\n",
       "      <th></th>\n",
       "      <th>MSSubClass</th>\n",
       "      <th>MSZoning</th>\n",
       "      <th>LotArea</th>\n",
       "      <th>Street</th>\n",
       "      <th>LotShape</th>\n",
       "      <th>LandContour</th>\n",
       "      <th>Utilities</th>\n",
       "      <th>LotConfig</th>\n",
       "      <th>LandSlope</th>\n",
       "      <th>Neighborhood</th>\n",
       "      <th>...</th>\n",
       "      <th>OpenPorchSF</th>\n",
       "      <th>EnclosedPorch</th>\n",
       "      <th>3SsnPorch</th>\n",
       "      <th>ScreenPorch</th>\n",
       "      <th>PoolArea</th>\n",
       "      <th>MiscVal</th>\n",
       "      <th>MoSold</th>\n",
       "      <th>YrSold</th>\n",
       "      <th>SaleType</th>\n",
       "      <th>SaleCondition</th>\n",
       "    </tr>\n",
       "    <tr>\n",
       "      <th>Id</th>\n",
       "      <th></th>\n",
       "      <th></th>\n",
       "      <th></th>\n",
       "      <th></th>\n",
       "      <th></th>\n",
       "      <th></th>\n",
       "      <th></th>\n",
       "      <th></th>\n",
       "      <th></th>\n",
       "      <th></th>\n",
       "      <th></th>\n",
       "      <th></th>\n",
       "      <th></th>\n",
       "      <th></th>\n",
       "      <th></th>\n",
       "      <th></th>\n",
       "      <th></th>\n",
       "      <th></th>\n",
       "      <th></th>\n",
       "      <th></th>\n",
       "      <th></th>\n",
       "    </tr>\n",
       "  </thead>\n",
       "  <tbody>\n",
       "    <tr>\n",
       "      <th>147</th>\n",
       "      <td>30</td>\n",
       "      <td>RM</td>\n",
       "      <td>6120</td>\n",
       "      <td>Pave</td>\n",
       "      <td>Reg</td>\n",
       "      <td>Lvl</td>\n",
       "      <td>AllPub</td>\n",
       "      <td>Corner</td>\n",
       "      <td>Gtl</td>\n",
       "      <td>BrkSide</td>\n",
       "      <td>...</td>\n",
       "      <td>0</td>\n",
       "      <td>0</td>\n",
       "      <td>0</td>\n",
       "      <td>0</td>\n",
       "      <td>0</td>\n",
       "      <td>0</td>\n",
       "      <td>11</td>\n",
       "      <td>2009</td>\n",
       "      <td>WD</td>\n",
       "      <td>Normal</td>\n",
       "    </tr>\n",
       "    <tr>\n",
       "      <th>1237</th>\n",
       "      <td>160</td>\n",
       "      <td>RL</td>\n",
       "      <td>2628</td>\n",
       "      <td>Pave</td>\n",
       "      <td>Reg</td>\n",
       "      <td>Lvl</td>\n",
       "      <td>AllPub</td>\n",
       "      <td>Inside</td>\n",
       "      <td>Gtl</td>\n",
       "      <td>NridgHt</td>\n",
       "      <td>...</td>\n",
       "      <td>27</td>\n",
       "      <td>0</td>\n",
       "      <td>0</td>\n",
       "      <td>0</td>\n",
       "      <td>0</td>\n",
       "      <td>0</td>\n",
       "      <td>6</td>\n",
       "      <td>2010</td>\n",
       "      <td>WD</td>\n",
       "      <td>Normal</td>\n",
       "    </tr>\n",
       "    <tr>\n",
       "      <th>799</th>\n",
       "      <td>60</td>\n",
       "      <td>RL</td>\n",
       "      <td>13518</td>\n",
       "      <td>Pave</td>\n",
       "      <td>Reg</td>\n",
       "      <td>Lvl</td>\n",
       "      <td>AllPub</td>\n",
       "      <td>Inside</td>\n",
       "      <td>Gtl</td>\n",
       "      <td>NridgHt</td>\n",
       "      <td>...</td>\n",
       "      <td>78</td>\n",
       "      <td>0</td>\n",
       "      <td>0</td>\n",
       "      <td>0</td>\n",
       "      <td>0</td>\n",
       "      <td>0</td>\n",
       "      <td>7</td>\n",
       "      <td>2009</td>\n",
       "      <td>New</td>\n",
       "      <td>Partial</td>\n",
       "    </tr>\n",
       "    <tr>\n",
       "      <th>254</th>\n",
       "      <td>80</td>\n",
       "      <td>RL</td>\n",
       "      <td>9350</td>\n",
       "      <td>Pave</td>\n",
       "      <td>Reg</td>\n",
       "      <td>Lvl</td>\n",
       "      <td>AllPub</td>\n",
       "      <td>Inside</td>\n",
       "      <td>Gtl</td>\n",
       "      <td>NAmes</td>\n",
       "      <td>...</td>\n",
       "      <td>0</td>\n",
       "      <td>0</td>\n",
       "      <td>0</td>\n",
       "      <td>0</td>\n",
       "      <td>0</td>\n",
       "      <td>0</td>\n",
       "      <td>10</td>\n",
       "      <td>2007</td>\n",
       "      <td>CWD</td>\n",
       "      <td>Normal</td>\n",
       "    </tr>\n",
       "    <tr>\n",
       "      <th>274</th>\n",
       "      <td>20</td>\n",
       "      <td>RL</td>\n",
       "      <td>9600</td>\n",
       "      <td>Pave</td>\n",
       "      <td>Reg</td>\n",
       "      <td>Lvl</td>\n",
       "      <td>AllPub</td>\n",
       "      <td>Inside</td>\n",
       "      <td>Gtl</td>\n",
       "      <td>NAmes</td>\n",
       "      <td>...</td>\n",
       "      <td>0</td>\n",
       "      <td>0</td>\n",
       "      <td>0</td>\n",
       "      <td>0</td>\n",
       "      <td>0</td>\n",
       "      <td>0</td>\n",
       "      <td>4</td>\n",
       "      <td>2009</td>\n",
       "      <td>WD</td>\n",
       "      <td>Normal</td>\n",
       "    </tr>\n",
       "  </tbody>\n",
       "</table>\n",
       "<p>5 rows × 68 columns</p>\n",
       "</div>"
      ],
      "text/plain": [
       "      MSSubClass MSZoning  LotArea Street LotShape LandContour Utilities  \\\n",
       "Id                                                                         \n",
       "147           30       RM     6120   Pave      Reg         Lvl    AllPub   \n",
       "1237         160       RL     2628   Pave      Reg         Lvl    AllPub   \n",
       "799           60       RL    13518   Pave      Reg         Lvl    AllPub   \n",
       "254           80       RL     9350   Pave      Reg         Lvl    AllPub   \n",
       "274           20       RL     9600   Pave      Reg         Lvl    AllPub   \n",
       "\n",
       "     LotConfig LandSlope Neighborhood  ... OpenPorchSF EnclosedPorch  \\\n",
       "Id                                     ...                             \n",
       "147     Corner       Gtl      BrkSide  ...           0             0   \n",
       "1237    Inside       Gtl      NridgHt  ...          27             0   \n",
       "799     Inside       Gtl      NridgHt  ...          78             0   \n",
       "254     Inside       Gtl        NAmes  ...           0             0   \n",
       "274     Inside       Gtl        NAmes  ...           0             0   \n",
       "\n",
       "     3SsnPorch ScreenPorch  PoolArea  MiscVal  MoSold  YrSold SaleType  \\\n",
       "Id                                                                       \n",
       "147          0           0         0        0      11    2009       WD   \n",
       "1237         0           0         0        0       6    2010       WD   \n",
       "799          0           0         0        0       7    2009      New   \n",
       "254          0           0         0        0      10    2007      CWD   \n",
       "274          0           0         0        0       4    2009       WD   \n",
       "\n",
       "     SaleCondition  \n",
       "Id                  \n",
       "147         Normal  \n",
       "1237        Normal  \n",
       "799        Partial  \n",
       "254         Normal  \n",
       "274         Normal  \n",
       "\n",
       "[5 rows x 68 columns]"
      ]
     },
     "execution_count": 12,
     "metadata": {},
     "output_type": "execute_result"
    }
   ],
   "source": [
    "X_train_transformed.head()"
   ]
  },
  {
   "cell_type": "markdown",
   "id": "0ffbcdbe",
   "metadata": {},
   "source": [
    "## Impute Missing Values"
   ]
  },
  {
   "cell_type": "markdown",
   "id": "43d59f6b",
   "metadata": {},
   "source": [
    "### Imputation Strategy"
   ]
  },
  {
   "cell_type": "markdown",
   "id": "cc7167bd",
   "metadata": {},
   "source": [
    "For qualitative values, impute the mean value if there is no specified requirement.\n",
    "For categorical values, impute the mode value if there is no specified requirement."
   ]
  },
  {
   "cell_type": "markdown",
   "id": "d2e6bc05",
   "metadata": {},
   "source": [
    "### Realization"
   ]
  },
  {
   "cell_type": "code",
   "execution_count": 13,
   "id": "c384e472",
   "metadata": {},
   "outputs": [],
   "source": [
    "## Below is a class you can use to realize customized imputation\n",
    "from sklearn.base import TransformerMixin\n",
    "from sklearn.base import BaseEstimator\n",
    "class MyImputer(BaseEstimator, TransformerMixin):\n",
    "\n",
    "    def __init__(self):\n",
    "        \"\"\"Impute missing values.\n",
    "\n",
    "        Columns of dtype object are imputed with the most frequent value \n",
    "        in column.\n",
    "\n",
    "        Columns of other types are imputed with mean of column.\n",
    "        \"\"\"\n",
    "        \n",
    "    def fit(self, X, y=None):\n",
    "\n",
    "        self.fill = pd.Series([X[c].value_counts().index[0]\n",
    "            if X[c].dtype == np.dtype('O') else X[c].mean() for c in X],\n",
    "            index=X.columns)\n",
    "\n",
    "        return self\n",
    "\n",
    "    def transform(self, X, y=None):\n",
    "        return X.fillna(self.fill)\n"
   ]
  },
  {
   "cell_type": "code",
   "execution_count": 14,
   "id": "8828ce0b",
   "metadata": {},
   "outputs": [
    {
     "data": {
      "text/plain": [
       "'no missing vlaue'"
      ]
     },
     "execution_count": 14,
     "metadata": {},
     "output_type": "execute_result"
    }
   ],
   "source": [
    "# test\n",
    "# impute X_train\n",
    "my_imputer = MyImputer()\n",
    "X_train_imputed = my_imputer.fit_transform(X_train_transformed)\n",
    "# check missing data after imputation\n",
    "getMissingData(X_train_imputed)"
   ]
  },
  {
   "cell_type": "code",
   "execution_count": 15,
   "id": "3313fc7b",
   "metadata": {},
   "outputs": [
    {
     "data": {
      "text/plain": [
       "(1314, 68)"
      ]
     },
     "execution_count": 15,
     "metadata": {},
     "output_type": "execute_result"
    }
   ],
   "source": [
    "X_train_imputed.shape"
   ]
  },
  {
   "cell_type": "markdown",
   "id": "778c40a7",
   "metadata": {},
   "source": [
    "## Encode Categorical Variavles"
   ]
  },
  {
   "cell_type": "markdown",
   "id": "85d30bcf",
   "metadata": {},
   "source": [
    "### Encoding Strategy"
   ]
  },
  {
   "cell_type": "markdown",
   "id": "0e4698da",
   "metadata": {},
   "source": [
    "We will encode all the categorical data using one-hot encoding with a specified threshold of cardinality."
   ]
  },
  {
   "cell_type": "code",
   "execution_count": 16,
   "id": "4ab1d365",
   "metadata": {},
   "outputs": [],
   "source": [
    "class MyEncoder(BaseEstimator, TransformerMixin):\n",
    "    \n",
    "    def __init__(self, cardinality_threshold=0):\n",
    "        self.cardinality_threshold=cardinality_threshold\n",
    "        self.cat_cols = []\n",
    "        self.one_hot_encoder = OneHotEncoder(handle_unknown='ignore')\n",
    "        \n",
    "        \n",
    "    def fit(self, X, y=None):\n",
    "        # get all the categorial column names\n",
    "        self.cat_cols = list(X.columns[X.dtypes == 'O'])\n",
    "        self.cat_cols = list(X[self.cat_cols].columns[X[self.cat_cols].nunique() > self.cardinality_threshold])\n",
    "        self.one_hot_encoder.fit(X[self.cat_cols])\n",
    "        return(self)\n",
    "\n",
    "    def transform(self, X, y=None):\n",
    "        # one hot encoder transform \n",
    "        X_encoded = pd.DataFrame(self.one_hot_encoder.transform(X[self.cat_cols]).toarray(), \n",
    "                                 index=X.index, \n",
    "                                 columns=self.one_hot_encoder.get_feature_names_out())\n",
    "        #print('The shape of X_encoded is {}'.format(X_encoded.shape))\n",
    "        # delete original categorical columns\n",
    "        X_dropped = X.drop(self.cat_cols,axis=1)\n",
    "        #print('The shape of X_dropped is {}'.format(X_dropped.shape))\n",
    "        # concat\n",
    "        return(pd.concat([X_dropped,X_encoded],axis=1))\n"
   ]
  },
  {
   "cell_type": "code",
   "execution_count": 21,
   "id": "3f22bade",
   "metadata": {},
   "outputs": [
    {
     "data": {
      "text/plain": [
       "(1314, 302)"
      ]
     },
     "execution_count": 21,
     "metadata": {},
     "output_type": "execute_result"
    }
   ],
   "source": [
    "my_encoder= MyEncoder()\n",
    "my_encoder.fit(X_train)\n",
    "X_encoded = my_encoder.transform(X_train)\n",
    "X_encoded.shape"
   ]
  },
  {
   "cell_type": "markdown",
   "id": "bcdba189",
   "metadata": {},
   "source": [
    "# Building Pipeline"
   ]
  },
  {
   "cell_type": "code",
   "execution_count": 294,
   "id": "9d174382",
   "metadata": {},
   "outputs": [],
   "source": [
    "pipe_ranf = Pipeline([('ColumnFilter_ranf', ColumnFilter()),\n",
    "                      ('MyImputer_ranf', MyImputer()),\n",
    "                      ('MyEncoder_ranf', MyEncoder()),\n",
    "                      ('model_ranf', RandomForestRegressor())]) \n"
   ]
  },
  {
   "cell_type": "code",
   "execution_count": 296,
   "id": "af6cdac6",
   "metadata": {},
   "outputs": [],
   "source": [
    "grid_params_ranf = {\n",
    "    'ColumnFilter_ranf__threshold':[5],\n",
    "    'model_ranf__n_estimators':[500],\n",
    "    'model_ranf__max_depth':[12,14,16],\n",
    "    'model_ranf__criterion':['squared_error'],\n",
    "    'model_ranf__min_samples_leaf':[5,10,20],\n",
    "    'model_ranf__oob_score':[True],\n",
    "    'model_ranf__random_state':[2021]\n",
    "}\n",
    "ranf_cv_tune = GridSearchCV(estimator=pipe_ranf,\n",
    "            param_grid=grid_params_ranf,\n",
    "            scoring='neg_mean_squared_error',\n",
    "            cv=5)\n"
   ]
  },
  {
   "cell_type": "code",
   "execution_count": 297,
   "id": "6d4d2f1d",
   "metadata": {},
   "outputs": [
    {
     "name": "stderr",
     "output_type": "stream",
     "text": [
      "/Users/kaiwenliu/opt/anaconda3/lib/python3.9/site-packages/sklearn/base.py:445: UserWarning: X does not have valid feature names, but RandomForestRegressor was fitted with feature names\n",
      "  warnings.warn(\n",
      "/Users/kaiwenliu/opt/anaconda3/lib/python3.9/site-packages/sklearn/base.py:445: UserWarning: X does not have valid feature names, but RandomForestRegressor was fitted with feature names\n",
      "  warnings.warn(\n",
      "/Users/kaiwenliu/opt/anaconda3/lib/python3.9/site-packages/sklearn/base.py:445: UserWarning: X does not have valid feature names, but RandomForestRegressor was fitted with feature names\n",
      "  warnings.warn(\n",
      "/Users/kaiwenliu/opt/anaconda3/lib/python3.9/site-packages/sklearn/base.py:445: UserWarning: X does not have valid feature names, but RandomForestRegressor was fitted with feature names\n",
      "  warnings.warn(\n",
      "/Users/kaiwenliu/opt/anaconda3/lib/python3.9/site-packages/sklearn/base.py:445: UserWarning: X does not have valid feature names, but RandomForestRegressor was fitted with feature names\n",
      "  warnings.warn(\n",
      "/Users/kaiwenliu/opt/anaconda3/lib/python3.9/site-packages/sklearn/base.py:445: UserWarning: X does not have valid feature names, but RandomForestRegressor was fitted with feature names\n",
      "  warnings.warn(\n",
      "/Users/kaiwenliu/opt/anaconda3/lib/python3.9/site-packages/sklearn/base.py:445: UserWarning: X does not have valid feature names, but RandomForestRegressor was fitted with feature names\n",
      "  warnings.warn(\n",
      "/Users/kaiwenliu/opt/anaconda3/lib/python3.9/site-packages/sklearn/base.py:445: UserWarning: X does not have valid feature names, but RandomForestRegressor was fitted with feature names\n",
      "  warnings.warn(\n",
      "/Users/kaiwenliu/opt/anaconda3/lib/python3.9/site-packages/sklearn/base.py:445: UserWarning: X does not have valid feature names, but RandomForestRegressor was fitted with feature names\n",
      "  warnings.warn(\n",
      "/Users/kaiwenliu/opt/anaconda3/lib/python3.9/site-packages/sklearn/base.py:445: UserWarning: X does not have valid feature names, but RandomForestRegressor was fitted with feature names\n",
      "  warnings.warn(\n",
      "/Users/kaiwenliu/opt/anaconda3/lib/python3.9/site-packages/sklearn/base.py:445: UserWarning: X does not have valid feature names, but RandomForestRegressor was fitted with feature names\n",
      "  warnings.warn(\n",
      "/Users/kaiwenliu/opt/anaconda3/lib/python3.9/site-packages/sklearn/base.py:445: UserWarning: X does not have valid feature names, but RandomForestRegressor was fitted with feature names\n",
      "  warnings.warn(\n",
      "/Users/kaiwenliu/opt/anaconda3/lib/python3.9/site-packages/sklearn/base.py:445: UserWarning: X does not have valid feature names, but RandomForestRegressor was fitted with feature names\n",
      "  warnings.warn(\n",
      "/Users/kaiwenliu/opt/anaconda3/lib/python3.9/site-packages/sklearn/base.py:445: UserWarning: X does not have valid feature names, but RandomForestRegressor was fitted with feature names\n",
      "  warnings.warn(\n",
      "/Users/kaiwenliu/opt/anaconda3/lib/python3.9/site-packages/sklearn/base.py:445: UserWarning: X does not have valid feature names, but RandomForestRegressor was fitted with feature names\n",
      "  warnings.warn(\n",
      "/Users/kaiwenliu/opt/anaconda3/lib/python3.9/site-packages/sklearn/base.py:445: UserWarning: X does not have valid feature names, but RandomForestRegressor was fitted with feature names\n",
      "  warnings.warn(\n",
      "/Users/kaiwenliu/opt/anaconda3/lib/python3.9/site-packages/sklearn/base.py:445: UserWarning: X does not have valid feature names, but RandomForestRegressor was fitted with feature names\n",
      "  warnings.warn(\n",
      "/Users/kaiwenliu/opt/anaconda3/lib/python3.9/site-packages/sklearn/base.py:445: UserWarning: X does not have valid feature names, but RandomForestRegressor was fitted with feature names\n",
      "  warnings.warn(\n",
      "/Users/kaiwenliu/opt/anaconda3/lib/python3.9/site-packages/sklearn/base.py:445: UserWarning: X does not have valid feature names, but RandomForestRegressor was fitted with feature names\n",
      "  warnings.warn(\n",
      "/Users/kaiwenliu/opt/anaconda3/lib/python3.9/site-packages/sklearn/base.py:445: UserWarning: X does not have valid feature names, but RandomForestRegressor was fitted with feature names\n",
      "  warnings.warn(\n",
      "/Users/kaiwenliu/opt/anaconda3/lib/python3.9/site-packages/sklearn/base.py:445: UserWarning: X does not have valid feature names, but RandomForestRegressor was fitted with feature names\n",
      "  warnings.warn(\n",
      "/Users/kaiwenliu/opt/anaconda3/lib/python3.9/site-packages/sklearn/base.py:445: UserWarning: X does not have valid feature names, but RandomForestRegressor was fitted with feature names\n",
      "  warnings.warn(\n",
      "/Users/kaiwenliu/opt/anaconda3/lib/python3.9/site-packages/sklearn/base.py:445: UserWarning: X does not have valid feature names, but RandomForestRegressor was fitted with feature names\n",
      "  warnings.warn(\n",
      "/Users/kaiwenliu/opt/anaconda3/lib/python3.9/site-packages/sklearn/base.py:445: UserWarning: X does not have valid feature names, but RandomForestRegressor was fitted with feature names\n",
      "  warnings.warn(\n",
      "/Users/kaiwenliu/opt/anaconda3/lib/python3.9/site-packages/sklearn/base.py:445: UserWarning: X does not have valid feature names, but RandomForestRegressor was fitted with feature names\n",
      "  warnings.warn(\n",
      "/Users/kaiwenliu/opt/anaconda3/lib/python3.9/site-packages/sklearn/base.py:445: UserWarning: X does not have valid feature names, but RandomForestRegressor was fitted with feature names\n",
      "  warnings.warn(\n",
      "/Users/kaiwenliu/opt/anaconda3/lib/python3.9/site-packages/sklearn/base.py:445: UserWarning: X does not have valid feature names, but RandomForestRegressor was fitted with feature names\n",
      "  warnings.warn(\n",
      "/Users/kaiwenliu/opt/anaconda3/lib/python3.9/site-packages/sklearn/base.py:445: UserWarning: X does not have valid feature names, but RandomForestRegressor was fitted with feature names\n",
      "  warnings.warn(\n",
      "/Users/kaiwenliu/opt/anaconda3/lib/python3.9/site-packages/sklearn/base.py:445: UserWarning: X does not have valid feature names, but RandomForestRegressor was fitted with feature names\n",
      "  warnings.warn(\n",
      "/Users/kaiwenliu/opt/anaconda3/lib/python3.9/site-packages/sklearn/base.py:445: UserWarning: X does not have valid feature names, but RandomForestRegressor was fitted with feature names\n",
      "  warnings.warn(\n",
      "/Users/kaiwenliu/opt/anaconda3/lib/python3.9/site-packages/sklearn/base.py:445: UserWarning: X does not have valid feature names, but RandomForestRegressor was fitted with feature names\n",
      "  warnings.warn(\n",
      "/Users/kaiwenliu/opt/anaconda3/lib/python3.9/site-packages/sklearn/base.py:445: UserWarning: X does not have valid feature names, but RandomForestRegressor was fitted with feature names\n",
      "  warnings.warn(\n",
      "/Users/kaiwenliu/opt/anaconda3/lib/python3.9/site-packages/sklearn/base.py:445: UserWarning: X does not have valid feature names, but RandomForestRegressor was fitted with feature names\n",
      "  warnings.warn(\n",
      "/Users/kaiwenliu/opt/anaconda3/lib/python3.9/site-packages/sklearn/base.py:445: UserWarning: X does not have valid feature names, but RandomForestRegressor was fitted with feature names\n",
      "  warnings.warn(\n",
      "/Users/kaiwenliu/opt/anaconda3/lib/python3.9/site-packages/sklearn/base.py:445: UserWarning: X does not have valid feature names, but RandomForestRegressor was fitted with feature names\n",
      "  warnings.warn(\n",
      "/Users/kaiwenliu/opt/anaconda3/lib/python3.9/site-packages/sklearn/base.py:445: UserWarning: X does not have valid feature names, but RandomForestRegressor was fitted with feature names\n",
      "  warnings.warn(\n",
      "/Users/kaiwenliu/opt/anaconda3/lib/python3.9/site-packages/sklearn/base.py:445: UserWarning: X does not have valid feature names, but RandomForestRegressor was fitted with feature names\n",
      "  warnings.warn(\n",
      "/Users/kaiwenliu/opt/anaconda3/lib/python3.9/site-packages/sklearn/base.py:445: UserWarning: X does not have valid feature names, but RandomForestRegressor was fitted with feature names\n",
      "  warnings.warn(\n",
      "/Users/kaiwenliu/opt/anaconda3/lib/python3.9/site-packages/sklearn/base.py:445: UserWarning: X does not have valid feature names, but RandomForestRegressor was fitted with feature names\n",
      "  warnings.warn(\n",
      "/Users/kaiwenliu/opt/anaconda3/lib/python3.9/site-packages/sklearn/base.py:445: UserWarning: X does not have valid feature names, but RandomForestRegressor was fitted with feature names\n",
      "  warnings.warn(\n",
      "/Users/kaiwenliu/opt/anaconda3/lib/python3.9/site-packages/sklearn/base.py:445: UserWarning: X does not have valid feature names, but RandomForestRegressor was fitted with feature names\n",
      "  warnings.warn(\n"
     ]
    },
    {
     "name": "stderr",
     "output_type": "stream",
     "text": [
      "/Users/kaiwenliu/opt/anaconda3/lib/python3.9/site-packages/sklearn/base.py:445: UserWarning: X does not have valid feature names, but RandomForestRegressor was fitted with feature names\n",
      "  warnings.warn(\n",
      "/Users/kaiwenliu/opt/anaconda3/lib/python3.9/site-packages/sklearn/base.py:445: UserWarning: X does not have valid feature names, but RandomForestRegressor was fitted with feature names\n",
      "  warnings.warn(\n",
      "/Users/kaiwenliu/opt/anaconda3/lib/python3.9/site-packages/sklearn/base.py:445: UserWarning: X does not have valid feature names, but RandomForestRegressor was fitted with feature names\n",
      "  warnings.warn(\n",
      "/Users/kaiwenliu/opt/anaconda3/lib/python3.9/site-packages/sklearn/base.py:445: UserWarning: X does not have valid feature names, but RandomForestRegressor was fitted with feature names\n",
      "  warnings.warn(\n",
      "/Users/kaiwenliu/opt/anaconda3/lib/python3.9/site-packages/sklearn/base.py:445: UserWarning: X does not have valid feature names, but RandomForestRegressor was fitted with feature names\n",
      "  warnings.warn(\n"
     ]
    },
    {
     "data": {
      "text/plain": [
       "GridSearchCV(cv=5,\n",
       "             estimator=Pipeline(steps=[('ColumnFilter_ranf', ColumnFilter()),\n",
       "                                       ('MyImputer_ranf', MyImputer()),\n",
       "                                       ('MyEncoder_ranf', MyEncoder()),\n",
       "                                       ('model_ranf',\n",
       "                                        RandomForestRegressor())]),\n",
       "             param_grid={'ColumnFilter_ranf__threshold': [5],\n",
       "                         'model_ranf__criterion': ['squared_error'],\n",
       "                         'model_ranf__max_depth': [12, 14, 16],\n",
       "                         'model_ranf__min_samples_leaf': [5, 10, 20],\n",
       "                         'model_ranf__n_estimators': [500],\n",
       "                         'model_ranf__oob_score': [True],\n",
       "                         'model_ranf__random_state': [2021]},\n",
       "             scoring='neg_mean_squared_error')"
      ]
     },
     "execution_count": 297,
     "metadata": {},
     "output_type": "execute_result"
    }
   ],
   "source": [
    "# log transform y\n",
    "ranf_cv_tune.fit(X_train, np.log1p(y_train))"
   ]
  },
  {
   "cell_type": "code",
   "execution_count": 306,
   "id": "6ffcc0ac",
   "metadata": {},
   "outputs": [],
   "source": [
    "ranf_best = ranf_cv_tune.best_estimator_\n",
    "pred_valid = ranf_best.predict(X_valid)"
   ]
  },
  {
   "cell_type": "code",
   "execution_count": 307,
   "id": "b1b4723a",
   "metadata": {},
   "outputs": [],
   "source": [
    "def MSE(y_valid,y_pred):\n",
    "    res = np.square(np.subtract(y_valid,y_pred)).mean()\n",
    "    return(res)"
   ]
  },
  {
   "cell_type": "code",
   "execution_count": 308,
   "id": "b6ee6b33",
   "metadata": {},
   "outputs": [
    {
     "data": {
      "text/plain": [
       "0.015168034385216899"
      ]
     },
     "execution_count": 308,
     "metadata": {},
     "output_type": "execute_result"
    }
   ],
   "source": [
    "MSE(np.log1p(y_valid), pred_valid)"
   ]
  },
  {
   "cell_type": "code",
   "execution_count": null,
   "id": "e2e02f2f",
   "metadata": {},
   "outputs": [],
   "source": []
  },
  {
   "cell_type": "code",
   "execution_count": 23,
   "id": "5d906e3f",
   "metadata": {},
   "outputs": [],
   "source": [
    "# test\n",
    "pipe_ranf2 = Pipeline([('ColumnFilter_ranf', ColumnFilter(5)),\n",
    "                      ('MyImputer_ranf', MyImputer()),\n",
    "                      ('MyEncoder_ranf', MyEncoder()),]) \n",
    "\n",
    "X_tranransformed = pipe_ranf2.fit_transform(X_train)\n",
    "\n",
    "ranf2 = RandomForestRegressor()"
   ]
  },
  {
   "cell_type": "code",
   "execution_count": null,
   "id": "df7a5232",
   "metadata": {},
   "outputs": [],
   "source": [
    "grid_params_ranf2 = {\n",
    "    'n_estimators':[500],\n",
    "    'max_depth':[4,6,8,10,12,14],\n",
    "    'criterion':['squared_error'],\n",
    "    'min_samples_leaf':[5,10,20],\n",
    "    'oob_score':[True],\n",
    "    'random_state':[2021]\n",
    "}\n",
    "grid2 = GridSearchCV(estimator=ranf2,\n",
    "            param_grid=grid_params_ranf2,\n",
    "            scoring='neg_mean_squared_error',\n",
    "            cv=5)\n",
    "\n",
    "\n",
    "grid2.fit(X_transformed.values, np.log1p(y_train))"
   ]
  },
  {
   "cell_type": "code",
   "execution_count": null,
   "id": "b6ef5832",
   "metadata": {},
   "outputs": [],
   "source": [
    "grid2.best_estimator_"
   ]
  },
  {
   "cell_type": "code",
   "execution_count": null,
   "id": "bdd8990e",
   "metadata": {},
   "outputs": [],
   "source": [
    "ranf_best = RandomForestRegressor(\n",
    "    n_estimators=500,\n",
    "    max_depth=14,\n",
    "    criterion='squared_error',\n",
    "    min_samples_leaf=5,\n",
    "    oob_score=True,\n",
    "    random_state=2021\n",
    ")\n",
    "ranf_best.fit(X_transformed.values,  np.log1p(y_train))"
   ]
  },
  {
   "cell_type": "code",
   "execution_count": null,
   "id": "39105657",
   "metadata": {},
   "outputs": [],
   "source": [
    "X_valid_transformed = pipe_ranf2.transform(X_valid)\n",
    "pred_value = ranf_best.predict(X_valid_transformed.values)"
   ]
  },
  {
   "cell_type": "code",
   "execution_count": null,
   "id": "05b31af6",
   "metadata": {},
   "outputs": [],
   "source": [
    "MSE_valid = np.square(np.subtract(np.log1p(y_valid),pred_value)).mean();MSE_valid"
   ]
  },
  {
   "cell_type": "code",
   "execution_count": 56,
   "id": "fb4e67d7",
   "metadata": {},
   "outputs": [],
   "source": [
    "# define transform function for y\n",
    "import math\n",
    "def trans_Y(Y):\n",
    "    return([math.exp(1)**y - 1 for y in Y ])"
   ]
  },
  {
   "cell_type": "markdown",
   "id": "db4c2f10",
   "metadata": {},
   "source": [
    "# Prediction"
   ]
  },
  {
   "cell_type": "code",
   "execution_count": null,
   "id": "6f6bf4e7",
   "metadata": {},
   "outputs": [],
   "source": [
    "test_raw_transformed = pipe_ranf2.transform(test_raw)\n",
    "pred_test = ranf_best.predict(test_raw_transformed.values)"
   ]
  },
  {
   "cell_type": "code",
   "execution_count": null,
   "id": "df083ae5",
   "metadata": {},
   "outputs": [],
   "source": [
    "pred_test_reversed = trans_Y(pred_test)"
   ]
  },
  {
   "cell_type": "code",
   "execution_count": null,
   "id": "6288e712",
   "metadata": {},
   "outputs": [],
   "source": [
    "output = pd.DataFrame({'Id': test_raw.index,\n",
    "                       'SalePrice': pred_test_reversed})\n",
    "output.to_csv('submission.csv', index=False)"
   ]
  },
  {
   "cell_type": "markdown",
   "id": "c6b9d959",
   "metadata": {},
   "source": [
    "# XGBoost"
   ]
  },
  {
   "cell_type": "code",
   "execution_count": 36,
   "id": "73904493",
   "metadata": {},
   "outputs": [],
   "source": []
  },
  {
   "cell_type": "markdown",
   "id": "6fc53ae6",
   "metadata": {},
   "source": [
    "## Preprocessing"
   ]
  },
  {
   "cell_type": "code",
   "execution_count": 279,
   "id": "428f847f",
   "metadata": {},
   "outputs": [],
   "source": [
    "import xgboost as xgb\n",
    "pipe_xgb = Pipeline([('ColumnFilter_ranf', ColumnFilter()),\n",
    "                      ('MyImputer_ranf', MyImputer()),\n",
    "                      ('MyEncoder_ranf', MyEncoder()),\n",
    "                      ('XGBoost', xgb.XGBRegressor())]) "
   ]
  },
  {
   "cell_type": "markdown",
   "id": "e01466df",
   "metadata": {},
   "source": [
    "## Training"
   ]
  },
  {
   "cell_type": "code",
   "execution_count": 284,
   "id": "f151e155",
   "metadata": {},
   "outputs": [],
   "source": [
    "grid_params_xgb = {\n",
    "    'ColumnFilter_ranf__threshold':[5],\n",
    "    'XGBoost__n_estimators':[200,500],\n",
    "    'XGBoost__max_depth':[2,4],\n",
    "    'XGBoost__min_child_weight': [5,8],\n",
    "    'XGBoost__learning_rate': [0.1,0.05],\n",
    "    'XGBoost__gamma':[0.01,0.1],\n",
    "    'XGBoost__reg_lambda': [0.1,0.5,2,5],\n",
    "    'XGBoost__random_state': [2022]\n",
    "}\n",
    "xgb_cv_tune = GridSearchCV(estimator=pipe_xgb,\n",
    "            param_grid=grid_params_xgb,\n",
    "            scoring='neg_mean_squared_error',\n",
    "            cv=5)"
   ]
  },
  {
   "cell_type": "code",
   "execution_count": 285,
   "id": "980fcfcb",
   "metadata": {},
   "outputs": [
    {
     "data": {
      "text/plain": [
       "GridSearchCV(cv=5,\n",
       "             estimator=Pipeline(steps=[('ColumnFilter_ranf', ColumnFilter()),\n",
       "                                       ('MyImputer_ranf', MyImputer()),\n",
       "                                       ('MyEncoder_ranf', MyEncoder()),\n",
       "                                       ('XGBoost',\n",
       "                                        XGBRegressor(base_score=None,\n",
       "                                                     booster=None,\n",
       "                                                     colsample_bylevel=None,\n",
       "                                                     colsample_bynode=None,\n",
       "                                                     colsample_bytree=None,\n",
       "                                                     enable_categorical=False,\n",
       "                                                     gamma=None, gpu_id=None,\n",
       "                                                     importance_type=None,\n",
       "                                                     interaction_constr...\n",
       "                                                     validate_parameters=None,\n",
       "                                                     verbosity=None))]),\n",
       "             param_grid={'ColumnFilter_ranf__threshold': [5],\n",
       "                         'XGBoost__gamma': [0.01, 0.1],\n",
       "                         'XGBoost__learning_rate': [0.1, 0.05],\n",
       "                         'XGBoost__max_depth': [2, 4],\n",
       "                         'XGBoost__min_child_weight': [5, 8],\n",
       "                         'XGBoost__n_estimators': [200, 500],\n",
       "                         'XGBoost__random_state': [2022],\n",
       "                         'XGBoost__reg_lambda': [0.1, 0.5, 2, 5]},\n",
       "             scoring='neg_mean_squared_error')"
      ]
     },
     "execution_count": 285,
     "metadata": {},
     "output_type": "execute_result"
    }
   ],
   "source": [
    "xgb_cv_tune.fit(X_train,np.log1p(y_train))"
   ]
  },
  {
   "cell_type": "code",
   "execution_count": 287,
   "id": "73c8e309",
   "metadata": {},
   "outputs": [
    {
     "data": {
      "text/plain": [
       "Pipeline(steps=[('ColumnFilter_ranf', ColumnFilter(threshold=5)),\n",
       "                ('MyImputer_ranf', MyImputer()),\n",
       "                ('MyEncoder_ranf', MyEncoder()),\n",
       "                ('XGBoost',\n",
       "                 XGBRegressor(base_score=0.5, booster='gbtree',\n",
       "                              colsample_bylevel=1, colsample_bynode=1,\n",
       "                              colsample_bytree=1, enable_categorical=False,\n",
       "                              gamma=0.01, gpu_id=-1, importance_type=None,\n",
       "                              interaction_constraints='', learning_rate=0.1,\n",
       "                              max_delta_step=0, max_depth=2, min_child_weight=5,\n",
       "                              missing=nan, monotone_constraints='()',\n",
       "                              n_estimators=500, n_jobs=4, num_parallel_tree=1,\n",
       "                              predictor='auto', random_state=2022, reg_alpha=0,\n",
       "                              reg_lambda=5, scale_pos_weight=1, subsample=1,\n",
       "                              tree_method='exact', validate_parameters=1,\n",
       "                              verbosity=None))])"
      ]
     },
     "execution_count": 287,
     "metadata": {},
     "output_type": "execute_result"
    }
   ],
   "source": [
    "xgb_best = xgb_cv_tune.best_estimator_;xgb_best"
   ]
  },
  {
   "cell_type": "code",
   "execution_count": 291,
   "id": "f5f1a6e0",
   "metadata": {},
   "outputs": [],
   "source": [
    "pred_xgb = xgb_best.predict(X_valid)"
   ]
  },
  {
   "cell_type": "code",
   "execution_count": 293,
   "id": "772f79bb",
   "metadata": {},
   "outputs": [
    {
     "data": {
      "text/plain": [
       "0.010476437557894843"
      ]
     },
     "execution_count": 293,
     "metadata": {},
     "output_type": "execute_result"
    }
   ],
   "source": [
    "MSE_valid = MSE(np.log1p(y_valid), pred_xgb);MSE_valid"
   ]
  },
  {
   "cell_type": "markdown",
   "id": "b722dc78",
   "metadata": {},
   "source": [
    "## Prediction"
   ]
  },
  {
   "cell_type": "code",
   "execution_count": 148,
   "id": "178e6595",
   "metadata": {},
   "outputs": [],
   "source": [
    "pred_test = xgb_regressor_refit.predict(test_raw_transformed)\n",
    "pred_test_reversed = trans_Y(pred_test)"
   ]
  },
  {
   "cell_type": "code",
   "execution_count": 151,
   "id": "b2aff1e8",
   "metadata": {},
   "outputs": [],
   "source": [
    "output = pd.DataFrame({'Id': test_raw.index,\n",
    "                       'SalePrice': pred_test_reversed})\n",
    "output.to_csv('submission_xgboost.csv', index=False)"
   ]
  },
  {
   "cell_type": "code",
   "execution_count": null,
   "id": "6b5b170e",
   "metadata": {},
   "outputs": [],
   "source": []
  },
  {
   "cell_type": "markdown",
   "id": "d5141e08",
   "metadata": {},
   "source": [
    "# Lasso"
   ]
  },
  {
   "cell_type": "code",
   "execution_count": 155,
   "id": "f49c631d",
   "metadata": {},
   "outputs": [],
   "source": [
    "from sklearn.preprocessing import RobustScaler\n",
    "from sklearn.linear_model import Lasso"
   ]
  },
  {
   "cell_type": "code",
   "execution_count": 264,
   "id": "577ae901",
   "metadata": {},
   "outputs": [],
   "source": [
    "pipe_lasso = Pipeline([('ColumnFilter_ranf', ColumnFilter()),\n",
    "                      ('MyImputer_ranf', MyImputer()),\n",
    "                      ('MyEncoder_ranf', MyEncoder()),\n",
    "                      ('RobustScaler', RobustScaler()),\n",
    "                      ('Lasso', Lasso())\n",
    "                      ]) \n"
   ]
  },
  {
   "cell_type": "code",
   "execution_count": 265,
   "id": "219ee145",
   "metadata": {},
   "outputs": [],
   "source": [
    "grid_params_lasso = {\n",
    "    'ColumnFilter_ranf__threshold':[5],\n",
    "    'Lasso__alpha':[0.01,0.05,0.1,1,2],\n",
    "    'Lasso__random_state':[2021],\n",
    "    'Lasso__selection':['random'],\n",
    "    'Lasso__max_iter': [1000,1500,2000]\n",
    "}\n",
    "lasso_cv_tune = GridSearchCV(estimator=pipe_lasso,\n",
    "            param_grid=grid_params_lasso,\n",
    "            scoring='neg_mean_squared_error',\n",
    "            cv=5)\n"
   ]
  },
  {
   "cell_type": "code",
   "execution_count": 266,
   "id": "db1a31ca",
   "metadata": {},
   "outputs": [
    {
     "data": {
      "text/plain": [
       "GridSearchCV(cv=5,\n",
       "             estimator=Pipeline(steps=[('ColumnFilter_ranf', ColumnFilter()),\n",
       "                                       ('MyImputer_ranf', MyImputer()),\n",
       "                                       ('MyEncoder_ranf', MyEncoder()),\n",
       "                                       ('RobustScaler', RobustScaler()),\n",
       "                                       ('Lasso', Lasso())]),\n",
       "             param_grid={'ColumnFilter_ranf__threshold': [5],\n",
       "                         'Lasso__alpha': [0.01, 0.05, 0.1, 1, 2],\n",
       "                         'Lasso__max_iter': [1000, 1500, 2000],\n",
       "                         'Lasso__random_state': [2021],\n",
       "                         'Lasso__selection': ['random']},\n",
       "             scoring='neg_mean_squared_error')"
      ]
     },
     "execution_count": 266,
     "metadata": {},
     "output_type": "execute_result"
    }
   ],
   "source": [
    "lasso_cv_tune.fit(X_train, np.log1p(y_train))"
   ]
  },
  {
   "cell_type": "code",
   "execution_count": 267,
   "id": "07832e73",
   "metadata": {},
   "outputs": [],
   "source": [
    "lasso_best = lasso_cv_tune.best_estimator_"
   ]
  },
  {
   "cell_type": "code",
   "execution_count": 268,
   "id": "dc63e52c",
   "metadata": {},
   "outputs": [
    {
     "data": {
      "text/plain": [
       "Pipeline(steps=[('ColumnFilter_ranf', ColumnFilter(threshold=5)),\n",
       "                ('MyImputer_ranf', MyImputer()),\n",
       "                ('MyEncoder_ranf', MyEncoder()),\n",
       "                ('RobustScaler', RobustScaler()),\n",
       "                ('Lasso',\n",
       "                 Lasso(alpha=0.01, random_state=2021, selection='random'))])"
      ]
     },
     "execution_count": 268,
     "metadata": {},
     "output_type": "execute_result"
    }
   ],
   "source": [
    "lasso_best.fit(X_train, np.log1p(y_train))"
   ]
  },
  {
   "cell_type": "code",
   "execution_count": 269,
   "id": "b3c95724",
   "metadata": {},
   "outputs": [],
   "source": [
    "lasso_pred = lasso_best.predict(X_valid)"
   ]
  },
  {
   "cell_type": "code",
   "execution_count": 270,
   "id": "c4cc588a",
   "metadata": {},
   "outputs": [
    {
     "data": {
      "text/plain": [
       "0.013214076923489826"
      ]
     },
     "execution_count": 270,
     "metadata": {},
     "output_type": "execute_result"
    }
   ],
   "source": [
    "MSE(np.log1p(y_valid), lasso_pred)"
   ]
  },
  {
   "cell_type": "code",
   "execution_count": null,
   "id": "80a8c5fc",
   "metadata": {},
   "outputs": [],
   "source": []
  },
  {
   "cell_type": "markdown",
   "id": "f5997c87",
   "metadata": {},
   "source": [
    "# Ridge Regression"
   ]
  },
  {
   "cell_type": "code",
   "execution_count": 194,
   "id": "37c2efde",
   "metadata": {},
   "outputs": [],
   "source": [
    "from sklearn.kernel_ridge import KernelRidge"
   ]
  },
  {
   "cell_type": "code",
   "execution_count": 196,
   "id": "61bdb905",
   "metadata": {},
   "outputs": [],
   "source": [
    "pipe_ridge = Pipeline([('ColumnFilter_ranf', ColumnFilter()),\n",
    "                      ('MyImputer_ranf', MyImputer()),\n",
    "                      ('MyEncoder_ranf', MyEncoder()),\n",
    "                      ('RobustScaler', RobustScaler()),\n",
    "                      ('KernelRidge', KernelRidge())\n",
    "                      ]) \n"
   ]
  },
  {
   "cell_type": "code",
   "execution_count": 258,
   "id": "a42fe647",
   "metadata": {},
   "outputs": [],
   "source": [
    "grid_params_ridge = {\n",
    "    'ColumnFilter_ranf__threshold':[5],\n",
    "    'KernelRidge__alpha':[0.01,0.1,0.5],\n",
    "    'KernelRidge__kernel':['polynomial','linear'],\n",
    "    'KernelRidge__degree': [3],\n",
    "    'KernelRidge__coef0': [2,2.5,3]\n",
    "}\n",
    "ridge_cv_tune = GridSearchCV(estimator=pipe_ridge,\n",
    "            param_grid=grid_params_ridge,\n",
    "            scoring='neg_mean_squared_error',\n",
    "            cv=5)\n"
   ]
  },
  {
   "cell_type": "code",
   "execution_count": 259,
   "id": "6fac9792",
   "metadata": {},
   "outputs": [
    {
     "name": "stderr",
     "output_type": "stream",
     "text": [
      "/Users/kaiwenliu/opt/anaconda3/lib/python3.9/site-packages/sklearn/linear_model/_ridge.py:193: LinAlgWarning: Ill-conditioned matrix (rcond=9.4184e-25): result may not be accurate.\n",
      "  dual_coef = linalg.solve(K, y, sym_pos=True, overwrite_a=False)\n",
      "/Users/kaiwenliu/opt/anaconda3/lib/python3.9/site-packages/sklearn/linear_model/_ridge.py:193: LinAlgWarning: Ill-conditioned matrix (rcond=3.03734e-21): result may not be accurate.\n",
      "  dual_coef = linalg.solve(K, y, sym_pos=True, overwrite_a=False)\n",
      "/Users/kaiwenliu/opt/anaconda3/lib/python3.9/site-packages/sklearn/linear_model/_ridge.py:193: LinAlgWarning: Ill-conditioned matrix (rcond=3.51146e-24): result may not be accurate.\n",
      "  dual_coef = linalg.solve(K, y, sym_pos=True, overwrite_a=False)\n",
      "/Users/kaiwenliu/opt/anaconda3/lib/python3.9/site-packages/sklearn/linear_model/_ridge.py:193: LinAlgWarning: Ill-conditioned matrix (rcond=2.6832e-24): result may not be accurate.\n",
      "  dual_coef = linalg.solve(K, y, sym_pos=True, overwrite_a=False)\n",
      "/Users/kaiwenliu/opt/anaconda3/lib/python3.9/site-packages/sklearn/linear_model/_ridge.py:193: LinAlgWarning: Ill-conditioned matrix (rcond=1.40577e-24): result may not be accurate.\n",
      "  dual_coef = linalg.solve(K, y, sym_pos=True, overwrite_a=False)\n",
      "/Users/kaiwenliu/opt/anaconda3/lib/python3.9/site-packages/sklearn/linear_model/_ridge.py:193: LinAlgWarning: Ill-conditioned matrix (rcond=9.51028e-25): result may not be accurate.\n",
      "  dual_coef = linalg.solve(K, y, sym_pos=True, overwrite_a=False)\n",
      "/Users/kaiwenliu/opt/anaconda3/lib/python3.9/site-packages/sklearn/linear_model/_ridge.py:193: LinAlgWarning: Ill-conditioned matrix (rcond=3.06689e-21): result may not be accurate.\n",
      "  dual_coef = linalg.solve(K, y, sym_pos=True, overwrite_a=False)\n",
      "/Users/kaiwenliu/opt/anaconda3/lib/python3.9/site-packages/sklearn/linear_model/_ridge.py:193: LinAlgWarning: Ill-conditioned matrix (rcond=3.55296e-24): result may not be accurate.\n",
      "  dual_coef = linalg.solve(K, y, sym_pos=True, overwrite_a=False)\n",
      "/Users/kaiwenliu/opt/anaconda3/lib/python3.9/site-packages/sklearn/linear_model/_ridge.py:193: LinAlgWarning: Ill-conditioned matrix (rcond=2.7133e-24): result may not be accurate.\n",
      "  dual_coef = linalg.solve(K, y, sym_pos=True, overwrite_a=False)\n",
      "/Users/kaiwenliu/opt/anaconda3/lib/python3.9/site-packages/sklearn/linear_model/_ridge.py:193: LinAlgWarning: Ill-conditioned matrix (rcond=1.42077e-24): result may not be accurate.\n",
      "  dual_coef = linalg.solve(K, y, sym_pos=True, overwrite_a=False)\n",
      "/Users/kaiwenliu/opt/anaconda3/lib/python3.9/site-packages/sklearn/linear_model/_ridge.py:193: LinAlgWarning: Ill-conditioned matrix (rcond=9.60087e-25): result may not be accurate.\n",
      "  dual_coef = linalg.solve(K, y, sym_pos=True, overwrite_a=False)\n",
      "/Users/kaiwenliu/opt/anaconda3/lib/python3.9/site-packages/sklearn/linear_model/_ridge.py:193: LinAlgWarning: Ill-conditioned matrix (rcond=3.09613e-21): result may not be accurate.\n",
      "  dual_coef = linalg.solve(K, y, sym_pos=True, overwrite_a=False)\n",
      "/Users/kaiwenliu/opt/anaconda3/lib/python3.9/site-packages/sklearn/linear_model/_ridge.py:193: LinAlgWarning: Ill-conditioned matrix (rcond=3.59412e-24): result may not be accurate.\n",
      "  dual_coef = linalg.solve(K, y, sym_pos=True, overwrite_a=False)\n",
      "/Users/kaiwenliu/opt/anaconda3/lib/python3.9/site-packages/sklearn/linear_model/_ridge.py:193: LinAlgWarning: Ill-conditioned matrix (rcond=2.74338e-24): result may not be accurate.\n",
      "  dual_coef = linalg.solve(K, y, sym_pos=True, overwrite_a=False)\n",
      "/Users/kaiwenliu/opt/anaconda3/lib/python3.9/site-packages/sklearn/linear_model/_ridge.py:193: LinAlgWarning: Ill-conditioned matrix (rcond=1.43558e-24): result may not be accurate.\n",
      "  dual_coef = linalg.solve(K, y, sym_pos=True, overwrite_a=False)\n",
      "/Users/kaiwenliu/opt/anaconda3/lib/python3.9/site-packages/sklearn/linear_model/_ridge.py:193: LinAlgWarning: Ill-conditioned matrix (rcond=9.45415e-25): result may not be accurate.\n",
      "  dual_coef = linalg.solve(K, y, sym_pos=True, overwrite_a=False)\n",
      "/Users/kaiwenliu/opt/anaconda3/lib/python3.9/site-packages/sklearn/linear_model/_ridge.py:193: LinAlgWarning: Ill-conditioned matrix (rcond=3.05272e-21): result may not be accurate.\n",
      "  dual_coef = linalg.solve(K, y, sym_pos=True, overwrite_a=False)\n",
      "/Users/kaiwenliu/opt/anaconda3/lib/python3.9/site-packages/sklearn/linear_model/_ridge.py:193: LinAlgWarning: Ill-conditioned matrix (rcond=3.51446e-24): result may not be accurate.\n",
      "  dual_coef = linalg.solve(K, y, sym_pos=True, overwrite_a=False)\n",
      "/Users/kaiwenliu/opt/anaconda3/lib/python3.9/site-packages/sklearn/linear_model/_ridge.py:193: LinAlgWarning: Ill-conditioned matrix (rcond=2.68625e-24): result may not be accurate.\n",
      "  dual_coef = linalg.solve(K, y, sym_pos=True, overwrite_a=False)\n",
      "/Users/kaiwenliu/opt/anaconda3/lib/python3.9/site-packages/sklearn/linear_model/_ridge.py:193: LinAlgWarning: Ill-conditioned matrix (rcond=1.40919e-24): result may not be accurate.\n",
      "  dual_coef = linalg.solve(K, y, sym_pos=True, overwrite_a=False)\n",
      "/Users/kaiwenliu/opt/anaconda3/lib/python3.9/site-packages/sklearn/linear_model/_ridge.py:193: LinAlgWarning: Ill-conditioned matrix (rcond=9.54599e-25): result may not be accurate.\n",
      "  dual_coef = linalg.solve(K, y, sym_pos=True, overwrite_a=False)\n",
      "/Users/kaiwenliu/opt/anaconda3/lib/python3.9/site-packages/sklearn/linear_model/_ridge.py:193: LinAlgWarning: Ill-conditioned matrix (rcond=3.08224e-21): result may not be accurate.\n",
      "  dual_coef = linalg.solve(K, y, sym_pos=True, overwrite_a=False)\n",
      "/Users/kaiwenliu/opt/anaconda3/lib/python3.9/site-packages/sklearn/linear_model/_ridge.py:193: LinAlgWarning: Ill-conditioned matrix (rcond=3.55596e-24): result may not be accurate.\n",
      "  dual_coef = linalg.solve(K, y, sym_pos=True, overwrite_a=False)\n",
      "/Users/kaiwenliu/opt/anaconda3/lib/python3.9/site-packages/sklearn/linear_model/_ridge.py:193: LinAlgWarning: Ill-conditioned matrix (rcond=2.71635e-24): result may not be accurate.\n",
      "  dual_coef = linalg.solve(K, y, sym_pos=True, overwrite_a=False)\n",
      "/Users/kaiwenliu/opt/anaconda3/lib/python3.9/site-packages/sklearn/linear_model/_ridge.py:193: LinAlgWarning: Ill-conditioned matrix (rcond=1.42418e-24): result may not be accurate.\n",
      "  dual_coef = linalg.solve(K, y, sym_pos=True, overwrite_a=False)\n",
      "/Users/kaiwenliu/opt/anaconda3/lib/python3.9/site-packages/sklearn/linear_model/_ridge.py:193: LinAlgWarning: Ill-conditioned matrix (rcond=9.63654e-25): result may not be accurate.\n",
      "  dual_coef = linalg.solve(K, y, sym_pos=True, overwrite_a=False)\n",
      "/Users/kaiwenliu/opt/anaconda3/lib/python3.9/site-packages/sklearn/linear_model/_ridge.py:193: LinAlgWarning: Ill-conditioned matrix (rcond=3.11146e-21): result may not be accurate.\n",
      "  dual_coef = linalg.solve(K, y, sym_pos=True, overwrite_a=False)\n",
      "/Users/kaiwenliu/opt/anaconda3/lib/python3.9/site-packages/sklearn/linear_model/_ridge.py:193: LinAlgWarning: Ill-conditioned matrix (rcond=3.5971e-24): result may not be accurate.\n",
      "  dual_coef = linalg.solve(K, y, sym_pos=True, overwrite_a=False)\n",
      "/Users/kaiwenliu/opt/anaconda3/lib/python3.9/site-packages/sklearn/linear_model/_ridge.py:193: LinAlgWarning: Ill-conditioned matrix (rcond=2.74641e-24): result may not be accurate.\n",
      "  dual_coef = linalg.solve(K, y, sym_pos=True, overwrite_a=False)\n",
      "/Users/kaiwenliu/opt/anaconda3/lib/python3.9/site-packages/sklearn/linear_model/_ridge.py:193: LinAlgWarning: Ill-conditioned matrix (rcond=1.43898e-24): result may not be accurate.\n",
      "  dual_coef = linalg.solve(K, y, sym_pos=True, overwrite_a=False)\n",
      "/Users/kaiwenliu/opt/anaconda3/lib/python3.9/site-packages/sklearn/linear_model/_ridge.py:193: LinAlgWarning: Ill-conditioned matrix (rcond=9.61305e-25): result may not be accurate.\n",
      "  dual_coef = linalg.solve(K, y, sym_pos=True, overwrite_a=False)\n",
      "/Users/kaiwenliu/opt/anaconda3/lib/python3.9/site-packages/sklearn/linear_model/_ridge.py:193: LinAlgWarning: Ill-conditioned matrix (rcond=3.12105e-21): result may not be accurate.\n",
      "  dual_coef = linalg.solve(K, y, sym_pos=True, overwrite_a=False)\n",
      "/Users/kaiwenliu/opt/anaconda3/lib/python3.9/site-packages/sklearn/linear_model/_ridge.py:193: LinAlgWarning: Ill-conditioned matrix (rcond=3.52783e-24): result may not be accurate.\n",
      "  dual_coef = linalg.solve(K, y, sym_pos=True, overwrite_a=False)\n",
      "/Users/kaiwenliu/opt/anaconda3/lib/python3.9/site-packages/sklearn/linear_model/_ridge.py:193: LinAlgWarning: Ill-conditioned matrix (rcond=2.69983e-24): result may not be accurate.\n",
      "  dual_coef = linalg.solve(K, y, sym_pos=True, overwrite_a=False)\n"
     ]
    },
    {
     "name": "stderr",
     "output_type": "stream",
     "text": [
      "/Users/kaiwenliu/opt/anaconda3/lib/python3.9/site-packages/sklearn/linear_model/_ridge.py:193: LinAlgWarning: Ill-conditioned matrix (rcond=1.42435e-24): result may not be accurate.\n",
      "  dual_coef = linalg.solve(K, y, sym_pos=True, overwrite_a=False)\n",
      "/Users/kaiwenliu/opt/anaconda3/lib/python3.9/site-packages/sklearn/linear_model/_ridge.py:193: LinAlgWarning: Ill-conditioned matrix (rcond=9.70469e-25): result may not be accurate.\n",
      "  dual_coef = linalg.solve(K, y, sym_pos=True, overwrite_a=False)\n",
      "/Users/kaiwenliu/opt/anaconda3/lib/python3.9/site-packages/sklearn/linear_model/_ridge.py:193: LinAlgWarning: Ill-conditioned matrix (rcond=3.15049e-21): result may not be accurate.\n",
      "  dual_coef = linalg.solve(K, y, sym_pos=True, overwrite_a=False)\n",
      "/Users/kaiwenliu/opt/anaconda3/lib/python3.9/site-packages/sklearn/linear_model/_ridge.py:193: LinAlgWarning: Ill-conditioned matrix (rcond=3.56928e-24): result may not be accurate.\n",
      "  dual_coef = linalg.solve(K, y, sym_pos=True, overwrite_a=False)\n",
      "/Users/kaiwenliu/opt/anaconda3/lib/python3.9/site-packages/sklearn/linear_model/_ridge.py:193: LinAlgWarning: Ill-conditioned matrix (rcond=2.72989e-24): result may not be accurate.\n",
      "  dual_coef = linalg.solve(K, y, sym_pos=True, overwrite_a=False)\n",
      "/Users/kaiwenliu/opt/anaconda3/lib/python3.9/site-packages/sklearn/linear_model/_ridge.py:193: LinAlgWarning: Ill-conditioned matrix (rcond=1.43931e-24): result may not be accurate.\n",
      "  dual_coef = linalg.solve(K, y, sym_pos=True, overwrite_a=False)\n",
      "/Users/kaiwenliu/opt/anaconda3/lib/python3.9/site-packages/sklearn/linear_model/_ridge.py:193: LinAlgWarning: Ill-conditioned matrix (rcond=9.79509e-25): result may not be accurate.\n",
      "  dual_coef = linalg.solve(K, y, sym_pos=True, overwrite_a=False)\n",
      "/Users/kaiwenliu/opt/anaconda3/lib/python3.9/site-packages/sklearn/linear_model/_ridge.py:193: LinAlgWarning: Ill-conditioned matrix (rcond=3.17962e-21): result may not be accurate.\n",
      "  dual_coef = linalg.solve(K, y, sym_pos=True, overwrite_a=False)\n",
      "/Users/kaiwenliu/opt/anaconda3/lib/python3.9/site-packages/sklearn/linear_model/_ridge.py:193: LinAlgWarning: Ill-conditioned matrix (rcond=3.61039e-24): result may not be accurate.\n",
      "  dual_coef = linalg.solve(K, y, sym_pos=True, overwrite_a=False)\n",
      "/Users/kaiwenliu/opt/anaconda3/lib/python3.9/site-packages/sklearn/linear_model/_ridge.py:193: LinAlgWarning: Ill-conditioned matrix (rcond=2.75992e-24): result may not be accurate.\n",
      "  dual_coef = linalg.solve(K, y, sym_pos=True, overwrite_a=False)\n",
      "/Users/kaiwenliu/opt/anaconda3/lib/python3.9/site-packages/sklearn/linear_model/_ridge.py:193: LinAlgWarning: Ill-conditioned matrix (rcond=1.45409e-24): result may not be accurate.\n",
      "  dual_coef = linalg.solve(K, y, sym_pos=True, overwrite_a=False)\n"
     ]
    },
    {
     "data": {
      "text/plain": [
       "GridSearchCV(cv=5,\n",
       "             estimator=Pipeline(steps=[('ColumnFilter_ranf',\n",
       "                                        ColumnFilter(threshold=5)),\n",
       "                                       ('MyImputer_ranf', MyImputer()),\n",
       "                                       ('MyEncoder_ranf', MyEncoder()),\n",
       "                                       ('RobustScaler', RobustScaler()),\n",
       "                                       ('KernelRidge',\n",
       "                                        KernelRidge(alpha=0.01, gamma=1))]),\n",
       "             param_grid={'ColumnFilter_ranf__threshold': [5],\n",
       "                         'KernelRidge__alpha': [0.01, 0.1, 0.5],\n",
       "                         'KernelRidge__coef0': [2, 2.5, 3],\n",
       "                         'KernelRidge__degree': [3],\n",
       "                         'KernelRidge__kernel': ['polynomial', 'linear']},\n",
       "             scoring='neg_mean_squared_error')"
      ]
     },
     "execution_count": 259,
     "metadata": {},
     "output_type": "execute_result"
    }
   ],
   "source": [
    "ridge_cv_tune.fit(X_train, np.log1p(y_train))"
   ]
  },
  {
   "cell_type": "code",
   "execution_count": 260,
   "id": "21630a3c",
   "metadata": {},
   "outputs": [],
   "source": [
    "ridge_best = ridge_cv_tune.best_estimator_"
   ]
  },
  {
   "cell_type": "code",
   "execution_count": 324,
   "id": "6d7b659f",
   "metadata": {},
   "outputs": [
    {
     "data": {
      "text/plain": [
       "make_scorer(mean_squared_error, greater_is_better=False)"
      ]
     },
     "execution_count": 324,
     "metadata": {},
     "output_type": "execute_result"
    }
   ],
   "source": [
    "ridge_cv_tune.scorer_"
   ]
  },
  {
   "cell_type": "code",
   "execution_count": 261,
   "id": "7fa65387",
   "metadata": {},
   "outputs": [
    {
     "data": {
      "text/plain": [
       "0.015151176224024504"
      ]
     },
     "execution_count": 261,
     "metadata": {},
     "output_type": "execute_result"
    }
   ],
   "source": [
    "ridge_pred = pipe_ridge.predict(X_valid)\n",
    "MSE(np.log1p(y_valid), ridge_pred)"
   ]
  },
  {
   "cell_type": "markdown",
   "id": "8b0a181b",
   "metadata": {},
   "source": [
    "# Elastic Net Regression"
   ]
  },
  {
   "cell_type": "code",
   "execution_count": 233,
   "id": "aeee0b48",
   "metadata": {},
   "outputs": [],
   "source": [
    "from sklearn.linear_model import ElasticNet"
   ]
  },
  {
   "cell_type": "code",
   "execution_count": 234,
   "id": "45e2d244",
   "metadata": {},
   "outputs": [],
   "source": [
    "pipe_elastic = Pipeline([('ColumnFilter_ranf', ColumnFilter()),\n",
    "                      ('MyImputer_ranf', MyImputer()),\n",
    "                      ('MyEncoder_ranf', MyEncoder()),\n",
    "                      ('RobustScaler', RobustScaler()),\n",
    "                      ('ElasticNet', ElasticNet())\n",
    "                      ]) "
   ]
  },
  {
   "cell_type": "code",
   "execution_count": 236,
   "id": "622a9e2b",
   "metadata": {},
   "outputs": [],
   "source": [
    "grid_params_elastic = {\n",
    "    'ColumnFilter_ranf__threshold':[5],\n",
    "    'ElasticNet__alpha':[0.01,0.1,0.5,0.6,0.8],\n",
    "    'ElasticNet__l1_ratio':[0.1,0.3,0.5,0.7,1]\n",
    "}\n",
    "elastic_cv_tune = GridSearchCV(estimator=pipe_elastic,\n",
    "            param_grid=grid_params_elastic,\n",
    "            scoring='neg_mean_squared_error',\n",
    "            cv=5)\n"
   ]
  },
  {
   "cell_type": "code",
   "execution_count": 237,
   "id": "1e9b29d0",
   "metadata": {},
   "outputs": [
    {
     "data": {
      "text/plain": [
       "GridSearchCV(cv=5,\n",
       "             estimator=Pipeline(steps=[('ColumnFilter_ranf', ColumnFilter()),\n",
       "                                       ('MyImputer_ranf', MyImputer()),\n",
       "                                       ('MyEncoder_ranf', MyEncoder()),\n",
       "                                       ('RobustScaler', RobustScaler()),\n",
       "                                       ('ElasticNet', ElasticNet())]),\n",
       "             param_grid={'ColumnFilter_ranf__threshold': [5],\n",
       "                         'ElasticNet__alpha': [0.01, 0.1, 0.5, 0.6, 0.8],\n",
       "                         'ElasticNet__l1_ratio': [0.1, 0.3, 0.5, 0.7, 1]},\n",
       "             scoring='neg_mean_squared_error')"
      ]
     },
     "execution_count": 237,
     "metadata": {},
     "output_type": "execute_result"
    }
   ],
   "source": [
    "elastic_cv_tune.fit(X_train, np.log1p(y_train))"
   ]
  },
  {
   "cell_type": "code",
   "execution_count": 251,
   "id": "51838101",
   "metadata": {},
   "outputs": [],
   "source": [
    "elastic_best = elastic_cv_tune.best_estimator_"
   ]
  },
  {
   "cell_type": "code",
   "execution_count": 250,
   "id": "2ed5e5ac",
   "metadata": {},
   "outputs": [
    {
     "data": {
      "text/plain": [
       "0.009748359735627843"
      ]
     },
     "execution_count": 250,
     "metadata": {},
     "output_type": "execute_result"
    }
   ],
   "source": [
    "elastic_pred = elastic_best.predict(X_valid)\n",
    "MSE(np.log1p(y_valid), elastic_pred)"
   ]
  },
  {
   "cell_type": "markdown",
   "id": "f61a01aa",
   "metadata": {},
   "source": [
    "## Prediction"
   ]
  },
  {
   "cell_type": "code",
   "execution_count": 242,
   "id": "9163137d",
   "metadata": {},
   "outputs": [],
   "source": [
    "pred_elastic = pipe_elastic.predict(test_raw)"
   ]
  },
  {
   "cell_type": "code",
   "execution_count": 243,
   "id": "af30c89c",
   "metadata": {},
   "outputs": [],
   "source": [
    "pred_test_reversed = trans_Y(pred_elastic)"
   ]
  },
  {
   "cell_type": "code",
   "execution_count": 245,
   "id": "02f556b3",
   "metadata": {},
   "outputs": [],
   "source": [
    "output = pd.DataFrame({'Id': test_raw.index,\n",
    "                       'SalePrice': pred_test_reversed})\n",
    "output.to_csv('submission_elastic.csv', index=False)"
   ]
  },
  {
   "cell_type": "code",
   "execution_count": null,
   "id": "e7b58487",
   "metadata": {},
   "outputs": [],
   "source": []
  },
  {
   "cell_type": "markdown",
   "id": "c5bc8f85",
   "metadata": {},
   "source": [
    "# Ensemble"
   ]
  },
  {
   "cell_type": "markdown",
   "id": "b65e87f8",
   "metadata": {},
   "source": [
    "## Ensemble with average strategy"
   ]
  },
  {
   "cell_type": "code",
   "execution_count": 315,
   "id": "1bf02bd5",
   "metadata": {},
   "outputs": [],
   "source": [
    "from sklearn.ensemble import VotingRegressor"
   ]
  },
  {
   "cell_type": "code",
   "execution_count": 331,
   "id": "95603a19",
   "metadata": {},
   "outputs": [],
   "source": [
    "votingR = VotingRegressor(estimators=[\n",
    "    ('xgb', xgb_best),\n",
    "    ('lasso',lasso_best),\n",
    "    ('elastic', elastic_best)],                    \n",
    "     n_jobs=4)\n",
    "\n",
    "votingR = votingR.fit(X_train, np.log1p(y_train))"
   ]
  },
  {
   "cell_type": "code",
   "execution_count": 332,
   "id": "59998773",
   "metadata": {},
   "outputs": [],
   "source": [
    "voting_pred = votingR.predict(X_valid)"
   ]
  },
  {
   "cell_type": "code",
   "execution_count": 333,
   "id": "89e98cb9",
   "metadata": {},
   "outputs": [
    {
     "data": {
      "text/plain": [
       "0.008936755429089832"
      ]
     },
     "execution_count": 333,
     "metadata": {},
     "output_type": "execute_result"
    }
   ],
   "source": [
    "MSE(np.log1p(y_valid), voting_pred)"
   ]
  },
  {
   "cell_type": "code",
   "execution_count": 334,
   "id": "555aa52b",
   "metadata": {},
   "outputs": [],
   "source": [
    "pred_test = votingR.predict(test_raw)\n",
    "pred_test_reversed = trans_Y(pred_test)"
   ]
  },
  {
   "cell_type": "code",
   "execution_count": 335,
   "id": "01049fdd",
   "metadata": {},
   "outputs": [],
   "source": [
    "output = pd.DataFrame({'Id': test_raw.index,\n",
    "                       'SalePrice': pred_test_reversed})\n",
    "output.to_csv('submission_ensemble_average.csv', index=False)"
   ]
  }
 ],
 "metadata": {
  "kernelspec": {
   "display_name": "Python 3 (ipykernel)",
   "language": "python",
   "name": "python3"
  },
  "language_info": {
   "codemirror_mode": {
    "name": "ipython",
    "version": 3
   },
   "file_extension": ".py",
   "mimetype": "text/x-python",
   "name": "python",
   "nbconvert_exporter": "python",
   "pygments_lexer": "ipython3",
   "version": "3.9.7"
  },
  "toc": {
   "base_numbering": 1,
   "nav_menu": {},
   "number_sections": true,
   "sideBar": true,
   "skip_h1_title": false,
   "title_cell": "Table of Contents",
   "title_sidebar": "Contents",
   "toc_cell": false,
   "toc_position": {
    "height": "calc(100% - 180px)",
    "left": "10px",
    "top": "150px",
    "width": "233px"
   },
   "toc_section_display": true,
   "toc_window_display": true
  }
 },
 "nbformat": 4,
 "nbformat_minor": 5
}
