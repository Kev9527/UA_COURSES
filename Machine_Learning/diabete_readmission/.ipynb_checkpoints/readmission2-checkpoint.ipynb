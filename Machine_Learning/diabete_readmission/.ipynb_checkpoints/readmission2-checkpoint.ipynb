{
 "cells": [
  {
   "cell_type": "markdown",
   "id": "c46e725f",
   "metadata": {
    "id": "c46e725f"
   },
   "source": [
    "<h1 align='center'>Prediction on Readmissions of Diabetic Patients</h1> <a id=100></a>"
   ]
  },
  {
   "cell_type": "markdown",
   "id": "fcea11eb",
   "metadata": {
    "id": "fcea11eb"
   },
   "source": [
    "1. [Introduction](#1) <a id=18></a>\n",
    "    - 1.1 [Objective](#2)\n",
    "    - 1.2 [Data Dictionary](#3)\n",
    "2. [Preparation](#4)\n",
    "    - 2.1 [Import Packages and Load Data](#5)\n",
    "    - 2.2 [Operations before splitting dataset](#6)\n",
    "    - 2.3 [Split dataset into training and testing](#6.1)\n",
    "    - 2.4 [Data Preprocessing](#6.2)\n",
    "3. [Feature Selection](#7)\n",
    "    - 3.1 [Check Categorical and Numerical Features](#9)\n",
    "    - 3.2 [Chi-Square test ](#10)\n",
    "4. [Preparing data for modeling](#11)\n",
    "    - 4.1 [Encode categorical features](#12)\n",
    "5. [Modeling](#15)\n",
    "    - 5.0 [Data Preprocessing using Pipeline](#14)\n",
    "    - 5.1 [Randoom Forest](#16)\n",
    "    - 5.2 [XGBoost](#17)\n",
    "6. [Conclusions](#20)\n",
    "7. [Reference](#19)"
   ]
  },
  {
   "cell_type": "markdown",
   "id": "ca92430e",
   "metadata": {
    "id": "ca92430e"
   },
   "source": [
    "### Introduction <a id=1></a>\n",
    "[back to top](#100)\n",
    "\n",
    "The dataset represents 10 years (1999-2008) of clinical care at 130 US hospitals and integrated delivery networks. It includes over 50 features representing patient and hospital outcomes. Information was extracted from the database for encounters that satisfied the following criteria.\n",
    "\n",
    "(1) It is an inpatient encounter (a hospital admission).\n",
    "\n",
    "(2) It is a diabetic encounter, that is, one during which any kind of diabetes was entered to the system as a diagnosis.\n",
    "\n",
    "(3) The length of stay was at least 1 day and at most 14 days.\n",
    "\n",
    "(4) Laboratory tests were performed during the encounter.\n",
    "\n",
    "(5) Medications were administered during the encounter.\n",
    "\n",
    "The data contains such attributes as patient number, race, gender, age, admission type, time in hospital, medical specialty of admitting physician, number of lab test performed, HbA1c test result, diagnosis, number of medication, diabetic medications, number of outpatient, inpatient, and emergency visits in the year before the hospitalization, etc.\n"
   ]
  },
  {
   "cell_type": "markdown",
   "id": "bbcc9dd9",
   "metadata": {},
   "source": [
    "#### 1.1 Objective<a id=2></a>"
   ]
  },
  {
   "cell_type": "markdown",
   "id": "a104d562",
   "metadata": {},
   "source": [
    "There are two main objectives:\n",
    "- To get a useful and efficient model to predict on whether diabetic patients will be readmitted within a month.\n",
    "- To find out what features are the most important in readmission of diabetic patients.\n",
    "\n",
    "The purpose of this study is to provide clicians information about prediction on dibetic patients' early readmission by taking into account demographical information and medical speciality change, etc.\n",
    "By predicting readmission rates, hospitals and healthcare systems can identify areas for improvement and implement interventions to reduce readmissions and improve patient outcomes. Besides, predicting readmission rates can also help identify high-risk patients who may benefit from additional support and interventions."
   ]
  },
  {
   "cell_type": "markdown",
   "id": "e60f6c82",
   "metadata": {
    "id": "e60f6c82"
   },
   "source": [
    "#### 1.2 Data Dictionary <a id=3></a>\n",
    "`encounter_id` - Unique identifier of an encounter\n",
    "\n",
    "`patient_nbr` - Unique identifier of a patient\n",
    "\n",
    "`race` - Values: Caucasian, Asian, African American, Hispanic, and other\n",
    "\n",
    "`gender` - Values: male, female, and unknown/invalid\n",
    "\n",
    "`age` - Grouped in 10-year intervals: [0,10), [10,20), …, [90,100)\n",
    "\n",
    "`weight` - Weight in pounds.\n",
    "\n",
    "`admission_type_id` - Integer identifier corresponding to 9 distinct values, for example, emergency, urgent, elective, newborn, and not available\t\n",
    "\n",
    "`discharge_disposition_id`  - Integer identifier corresponding to 29 distinct values, for example, discharged to home, expired, and not available\t\n",
    "\n",
    "`admission_source_id` - Integer identifier corresponding to 21 distinct values, for example, physician referral, emergency room, and transfer from a hospital\n",
    "\n",
    "`time_in_hospital` - Integer number of days between admission and discharge (1~14)\n",
    "\n",
    "`payer_code` - Integer identifier corresponding to 23 distinct values, for example, Blue Cross/Blue Shield, Medicare, and self-pay\t\n",
    "\n",
    "`medical_specialty` - Integer identifier of a specialty of the admitting physician, corresponding to 84 distinct values, for example, cardiology, internal medicine, family/general practice, and surgeon\n",
    "\n",
    "`num_lab_procedures` - Number of lab tests performed during the encounter\t\n",
    "\n",
    "`num_procedures` - Number of procedures (other than lab tests) performed during the encounter\n",
    "\n",
    "`num_medications` - Number of distinct generic names administered during the encounter\n",
    "\n",
    "`number_outpatient` - Number of outpatient visits of the patient in the year preceding the encounter\t\n",
    "\n",
    "`number_emergency` - Number of emergency visits of the patient in the year preceding the encounter\t\n",
    "\n",
    "`number_inpatient` - Number of inpatient visits of the patient in the year preceding the encounter\t\n",
    "\n",
    "`diag_1` - The primary diagnosis (coded as first three digits of ICD9); 848 distinct values\t\n",
    "\n",
    "`diag_2` - Secondary diagnosis (coded as first three digits of ICD9); 923 distinct values\t\n",
    "\n",
    "`diag_3` - Additional secondary diagnosis (coded as first three digits of ICD9); 954 distinct values\t\n",
    "\n",
    "`number_diagnoses` - Number of diagnoses entered to the system\t\n",
    "\n",
    "`max_glu_serum` - Indicates the range of the result or if the test was not taken. Values: “>200,” “>300,” “normal,” and “none” if not measured\t\n",
    "\n",
    "`A1Cresult` - Indicates the range of the result or if the test was not taken. Values: “>8” if the result was greater than 8%, “>7” if the result was greater than 7% but less than 8%, “normal” if the result was less than 7%, and “none” if not measured.\t\n",
    "\n",
    "23 features for medications -\n",
    "\n",
    "`metformin`, \n",
    "`repaglinide`, `nateglinide`, `chlorpropamide`,\n",
    "`glimepiride`, `acetohexamide`, `glipizide`, `glyburide`, `tolbutamide`, `pioglitazone`,\n",
    "`rosiglitazone`, `acarbose`, `miglitol`, `troglitazone`, `tolazamide`, `examide`, `sitagliptin`, `insulin`,\n",
    "`glyburide-metformin`, `glipizide-metformin`, `glimepiride-pioglitazone`,\n",
    "`metformin-rosiglitazone`, `metformin-pioglitazone`, the feature indicates whether\n",
    "the drug was prescribed or there was a change in the dosage. Values: “up” if the dosage\n",
    "was increased during the encounter, “down” if the dosage was decreased, “steady” if the\n",
    "dosage did not change, and “no” if the drug was not prescribed\n",
    "\n",
    "\n",
    "`change` - Indicates if there was a change in diabetic medications (either dosage or generic name). Values: “change” and “no change”\n",
    "\n",
    "`diabetesMed` - Indicates if there was any diabetic medication prescribed. Values: “yes” and “no”\t\n",
    "\n",
    "`readmitted` - Days to inpatient readmission. Values: “<30” if the patient was readmitted in less than 30 days, “>30” if the patient was readmitted in more than 30 days, and “No” for no record of readmission.\t\n"
   ]
  },
  {
   "cell_type": "markdown",
   "id": "a5afaa16",
   "metadata": {
    "id": "a5afaa16"
   },
   "source": [
    "### 2. Preparation <a id=4></a>\n",
    "[back to top](#100)"
   ]
  },
  {
   "cell_type": "markdown",
   "id": "abdc1576",
   "metadata": {
    "id": "abdc1576"
   },
   "source": [
    "#### 2.1 Import Packages and Load Data <a id=5></a>"
   ]
  },
  {
   "cell_type": "code",
   "execution_count": 1,
   "id": "7b70c490",
   "metadata": {
    "id": "7b70c490"
   },
   "outputs": [],
   "source": [
    "import numpy as np\n",
    "import pandas as pd\n",
    "from sklearn.model_selection import train_test_split\n",
    "import matplotlib.pyplot as plt\n",
    "import seaborn as sns\n",
    "from scipy.stats import chi2_contingency\n",
    "from sklearn.preprocessing import OneHotEncoder\n",
    "from xgboost import XGBClassifier\n",
    "from sklearn.model_selection import GridSearchCV,StratifiedKFold\n",
    "from sklearn.preprocessing import LabelEncoder\n",
    "import re\n",
    "from sklearn.pipeline import Pipeline\n",
    "from sklearn.base import BaseEstimator, TransformerMixin\n",
    "from sklearn.impute import SimpleImputer\n",
    "from sklearn.model_selection import train_test_split, StratifiedShuffleSplit\n",
    "from sklearn.linear_model import LogisticRegression\n",
    "from sklearn.preprocessing import StandardScaler\n",
    "from sklearn.ensemble import RandomForestClassifier\n",
    "import matplotlib.pyplot as plt\n",
    "from sklearn.linear_model import LogisticRegression\n",
    "from sklearn.preprocessing import StandardScaler\n"
   ]
  },
  {
   "cell_type": "code",
   "execution_count": 2,
   "id": "216cade0",
   "metadata": {
    "colab": {
     "base_uri": "https://localhost:8080/"
    },
    "id": "216cade0",
    "outputId": "220db0a1-4374-43b9-ab47-06b971e0242e",
    "scrolled": false
   },
   "outputs": [],
   "source": [
    "# load datasets\n",
    "# from google.colab import drive\n",
    "# drive.mount('/content/drive')\n",
    "df = pd.read_csv(\"/Users/kaiwenliu/Documents/Communication Requirement/diabete/dataset_diabetes/diabetic_data.csv\")\n",
    "name_map = pd.read_csv(\"/Users/kaiwenliu/Documents/Communication Requirement/diabete/dataset_diabetes/IDs_mapping.csv\")\n",
    "\n",
    "\n",
    "X = df.drop(columns=['readmitted']) #  features\n",
    "y = df['readmitted'] #  target variable"
   ]
  },
  {
   "cell_type": "code",
   "execution_count": 3,
   "id": "73444d95",
   "metadata": {},
   "outputs": [
    {
     "data": {
      "text/plain": [
       "(101766, 49)"
      ]
     },
     "execution_count": 3,
     "metadata": {},
     "output_type": "execute_result"
    }
   ],
   "source": [
    "X.shape"
   ]
  },
  {
   "cell_type": "code",
   "execution_count": 4,
   "id": "4412e71e",
   "metadata": {},
   "outputs": [
    {
     "data": {
      "text/plain": [
       "NO     54864\n",
       ">30    35545\n",
       "<30    11357\n",
       "Name: readmitted, dtype: int64"
      ]
     },
     "execution_count": 4,
     "metadata": {},
     "output_type": "execute_result"
    }
   ],
   "source": [
    "y.value_counts()"
   ]
  },
  {
   "cell_type": "code",
   "execution_count": 5,
   "id": "100693ab",
   "metadata": {},
   "outputs": [
    {
     "name": "stdout",
     "output_type": "stream",
     "text": [
      "['<30' 'other']\n"
     ]
    }
   ],
   "source": [
    "# Since we are only interested in whether patients are readmitted within 30 days or not\n",
    "# we will group '>30' and 'No' to 'other' group\n",
    "y_binary = np.where(np.not_equal(y, '<30'), 'other', y)\n",
    "\n",
    "# Convert the categorical target variable into numeric format\n",
    "le = LabelEncoder()\n",
    "y_encoded = le.fit_transform(y_binary)\n",
    "print(le.classes_)"
   ]
  },
  {
   "cell_type": "markdown",
   "id": "4f47c860",
   "metadata": {},
   "source": [
    "#### 2.2 Operations before Splitting Dataset<a id=6></a>"
   ]
  },
  {
   "cell_type": "markdown",
   "id": "bf115605",
   "metadata": {
    "id": "bf115605"
   },
   "source": [
    "##### 2.2.1 Drop dependent observations"
   ]
  },
  {
   "cell_type": "code",
   "execution_count": 6,
   "id": "57696f71",
   "metadata": {
    "id": "57696f71"
   },
   "outputs": [
    {
     "name": "stdout",
     "output_type": "stream",
     "text": [
      "The shape of the current dataset is: (69973, 49)\n"
     ]
    }
   ],
   "source": [
    "# create an operation to drop certain ovservationsa\n",
    "class DropObservations(BaseEstimator, TransformerMixin):\n",
    "    def __init__(self):\n",
    "        # id to remove for redundancy\n",
    "        self.id_remove = []\n",
    "        # id to remove for certain values in discharge_disposition_id        \n",
    "        self.id_remove_dd = []\n",
    "        # these discharge_disposition_id can be found in the appendix which\n",
    "        # I believe are noisy information\n",
    "        self.rmPool = set([11,13,14,19,20,26])\n",
    "     \n",
    "    def update_drop_list(self,X):\n",
    "        # We thus used only one encounter per patient; in particular, \n",
    "        # we considered only the first encounter for each patient as the primary admission and \n",
    "        # determined whether or not they were readmitted within 30 days. \n",
    "\n",
    "        patient_id_pool = set()\n",
    "        for ind, val in X['patient_nbr'].items():\n",
    "            if val in patient_id_pool:\n",
    "                self.id_remove.append(ind)\n",
    "            else:\n",
    "                patient_id_pool.add(val)\n",
    "        \n",
    "        # Additionally, we removed all encounters that resulted in either discharge to a hospice \n",
    "        # (corresponeds to discharge_disposition_id=[13,14,19,20,26]) or \n",
    "        # patient death (correspondes to discharge_disposition_id=11), \n",
    "        # to avoid biasing our analysis.\n",
    "        \n",
    "        for i,v in X['discharge_disposition_id'].items():\n",
    "            if v in self.rmPool:\n",
    "                self.id_remove_dd.append(i)\n",
    "                        \n",
    "    def fit_transform(self, X, y):\n",
    "        X_new = X.reset_index(drop=True)\n",
    "        y_new = pd.Series(y)\n",
    "        self.update_drop_list(X_new)\n",
    "        # drop rows according to the ids and return\n",
    "        ind_drop = self.id_remove+self.id_remove_dd\n",
    "        return [X_new.drop(index=ind_drop), y_new.drop(index=ind_drop) ]\n",
    "\n",
    "obj = DropObservations()\n",
    "X,y = obj.fit_transform(X,y_encoded)\n",
    "print(f'The shape of the current dataset is: {X.shape}')"
   ]
  },
  {
   "cell_type": "markdown",
   "id": "3927628c",
   "metadata": {},
   "source": [
    "##### 2.2.2 Change the type of each feature"
   ]
  },
  {
   "cell_type": "code",
   "execution_count": 7,
   "id": "db58fec8",
   "metadata": {},
   "outputs": [
    {
     "name": "stdout",
     "output_type": "stream",
     "text": [
      "<class 'pandas.core.frame.DataFrame'>\n",
      "Int64Index: 69973 entries, 0 to 101765\n",
      "Data columns (total 49 columns):\n",
      " #   Column                    Non-Null Count  Dtype \n",
      "---  ------                    --------------  ----- \n",
      " 0   encounter_id              69973 non-null  int64 \n",
      " 1   patient_nbr               69973 non-null  int64 \n",
      " 2   race                      69973 non-null  object\n",
      " 3   gender                    69973 non-null  object\n",
      " 4   age                       69973 non-null  object\n",
      " 5   weight                    69973 non-null  object\n",
      " 6   admission_type_id         69973 non-null  int64 \n",
      " 7   discharge_disposition_id  69973 non-null  int64 \n",
      " 8   admission_source_id       69973 non-null  int64 \n",
      " 9   time_in_hospital          69973 non-null  int64 \n",
      " 10  payer_code                69973 non-null  object\n",
      " 11  medical_specialty         69973 non-null  object\n",
      " 12  num_lab_procedures        69973 non-null  int64 \n",
      " 13  num_procedures            69973 non-null  int64 \n",
      " 14  num_medications           69973 non-null  int64 \n",
      " 15  number_outpatient         69973 non-null  int64 \n",
      " 16  number_emergency          69973 non-null  int64 \n",
      " 17  number_inpatient          69973 non-null  int64 \n",
      " 18  diag_1                    69973 non-null  object\n",
      " 19  diag_2                    69973 non-null  object\n",
      " 20  diag_3                    69973 non-null  object\n",
      " 21  number_diagnoses          69973 non-null  int64 \n",
      " 22  max_glu_serum             69973 non-null  object\n",
      " 23  A1Cresult                 69973 non-null  object\n",
      " 24  metformin                 69973 non-null  object\n",
      " 25  repaglinide               69973 non-null  object\n",
      " 26  nateglinide               69973 non-null  object\n",
      " 27  chlorpropamide            69973 non-null  object\n",
      " 28  glimepiride               69973 non-null  object\n",
      " 29  acetohexamide             69973 non-null  object\n",
      " 30  glipizide                 69973 non-null  object\n",
      " 31  glyburide                 69973 non-null  object\n",
      " 32  tolbutamide               69973 non-null  object\n",
      " 33  pioglitazone              69973 non-null  object\n",
      " 34  rosiglitazone             69973 non-null  object\n",
      " 35  acarbose                  69973 non-null  object\n",
      " 36  miglitol                  69973 non-null  object\n",
      " 37  troglitazone              69973 non-null  object\n",
      " 38  tolazamide                69973 non-null  object\n",
      " 39  examide                   69973 non-null  object\n",
      " 40  citoglipton               69973 non-null  object\n",
      " 41  insulin                   69973 non-null  object\n",
      " 42  glyburide-metformin       69973 non-null  object\n",
      " 43  glipizide-metformin       69973 non-null  object\n",
      " 44  glimepiride-pioglitazone  69973 non-null  object\n",
      " 45  metformin-rosiglitazone   69973 non-null  object\n",
      " 46  metformin-pioglitazone    69973 non-null  object\n",
      " 47  change                    69973 non-null  object\n",
      " 48  diabetesMed               69973 non-null  object\n",
      "dtypes: int64(13), object(36)\n",
      "memory usage: 26.7+ MB\n",
      "None\n"
     ]
    }
   ],
   "source": [
    "print(X.info())\n",
    "# change the type of admission_type_id, discharge_disposition_id and admission_source_id to category\n",
    "cols_not_categorical = ('encounter_id', 'patient_nbr', 'time_in_hospital', 'num_lab_procedures', \n",
    "                        'num_procedures', 'num_medications', 'number_outpatient', 'number_emergency',\n",
    "                        'number_inpatient', 'number_diagnoses')\n",
    "\n",
    "for col in X.columns:\n",
    "    if col not in cols_not_categorical:\n",
    "        X[col] = X[col].astype('category')\n"
   ]
  },
  {
   "cell_type": "code",
   "execution_count": 8,
   "id": "40355cb3",
   "metadata": {},
   "outputs": [
    {
     "name": "stdout",
     "output_type": "stream",
     "text": [
      "<class 'pandas.core.frame.DataFrame'>\n",
      "Int64Index: 69973 entries, 0 to 101765\n",
      "Data columns (total 49 columns):\n",
      " #   Column                    Non-Null Count  Dtype   \n",
      "---  ------                    --------------  -----   \n",
      " 0   encounter_id              69973 non-null  int64   \n",
      " 1   patient_nbr               69973 non-null  int64   \n",
      " 2   race                      69973 non-null  category\n",
      " 3   gender                    69973 non-null  category\n",
      " 4   age                       69973 non-null  category\n",
      " 5   weight                    69973 non-null  category\n",
      " 6   admission_type_id         69973 non-null  category\n",
      " 7   discharge_disposition_id  69973 non-null  category\n",
      " 8   admission_source_id       69973 non-null  category\n",
      " 9   time_in_hospital          69973 non-null  int64   \n",
      " 10  payer_code                69973 non-null  category\n",
      " 11  medical_specialty         69973 non-null  category\n",
      " 12  num_lab_procedures        69973 non-null  int64   \n",
      " 13  num_procedures            69973 non-null  int64   \n",
      " 14  num_medications           69973 non-null  int64   \n",
      " 15  number_outpatient         69973 non-null  int64   \n",
      " 16  number_emergency          69973 non-null  int64   \n",
      " 17  number_inpatient          69973 non-null  int64   \n",
      " 18  diag_1                    69973 non-null  category\n",
      " 19  diag_2                    69973 non-null  category\n",
      " 20  diag_3                    69973 non-null  category\n",
      " 21  number_diagnoses          69973 non-null  int64   \n",
      " 22  max_glu_serum             69973 non-null  category\n",
      " 23  A1Cresult                 69973 non-null  category\n",
      " 24  metformin                 69973 non-null  category\n",
      " 25  repaglinide               69973 non-null  category\n",
      " 26  nateglinide               69973 non-null  category\n",
      " 27  chlorpropamide            69973 non-null  category\n",
      " 28  glimepiride               69973 non-null  category\n",
      " 29  acetohexamide             69973 non-null  category\n",
      " 30  glipizide                 69973 non-null  category\n",
      " 31  glyburide                 69973 non-null  category\n",
      " 32  tolbutamide               69973 non-null  category\n",
      " 33  pioglitazone              69973 non-null  category\n",
      " 34  rosiglitazone             69973 non-null  category\n",
      " 35  acarbose                  69973 non-null  category\n",
      " 36  miglitol                  69973 non-null  category\n",
      " 37  troglitazone              69973 non-null  category\n",
      " 38  tolazamide                69973 non-null  category\n",
      " 39  examide                   69973 non-null  category\n",
      " 40  citoglipton               69973 non-null  category\n",
      " 41  insulin                   69973 non-null  category\n",
      " 42  glyburide-metformin       69973 non-null  category\n",
      " 43  glipizide-metformin       69973 non-null  category\n",
      " 44  glimepiride-pioglitazone  69973 non-null  category\n",
      " 45  metformin-rosiglitazone   69973 non-null  category\n",
      " 46  metformin-pioglitazone    69973 non-null  category\n",
      " 47  change                    69973 non-null  category\n",
      " 48  diabetesMed               69973 non-null  category\n",
      "dtypes: category(39), int64(10)\n",
      "memory usage: 8.7 MB\n"
     ]
    }
   ],
   "source": [
    "X.info()"
   ]
  },
  {
   "cell_type": "markdown",
   "id": "af356615",
   "metadata": {
    "id": "af356615"
   },
   "source": [
    "##### 2.2.3 Check the distribution of the response variable"
   ]
  },
  {
   "cell_type": "code",
   "execution_count": 9,
   "id": "43a555c6",
   "metadata": {
    "colab": {
     "base_uri": "https://localhost:8080/"
    },
    "id": "43a555c6",
    "outputId": "134c3016-73cf-4ad4-e7bd-b480460e06fb"
   },
   "outputs": [
    {
     "name": "stdout",
     "output_type": "stream",
     "text": [
      "1    63696\n",
      "0     6277\n",
      "dtype: int64\n",
      "0: <30,\n",
      "1: other\n"
     ]
    }
   ],
   "source": [
    "print(y.value_counts())\n",
    "print(f'0: {le.classes_[0]},\\n1: {le.classes_[1]}')"
   ]
  },
  {
   "cell_type": "markdown",
   "id": "39917b51",
   "metadata": {
    "id": "39917b51"
   },
   "source": [
    "#### 2.3 Split Dataset into Training and Testing<a id=6.1></a>"
   ]
  },
  {
   "cell_type": "code",
   "execution_count": 12,
   "id": "d3254376",
   "metadata": {
    "id": "d3254376"
   },
   "outputs": [],
   "source": [
    "# split data into training and testing\n",
    "X_train, X_test, y_train, y_test = train_test_split(X, y, test_size=0.2, random_state=2023)\n",
    "\n",
    "# Next, use stratified sampling to further split the training set into training and validation sets\n",
    "# strat_split = StratifiedShuffleSplit(n_splits=1, test_size=0.2, random_state=3202)\n",
    "\n",
    "# for train_index, val_index in strat_split.split(X_train, y_train):\n",
    "#     X_train_split, X_val = X_train.iloc[train_index], X_train.iloc[val_index]\n",
    "#     y_train_split, y_val = y_train.iloc[train_index], y_train.iloc[val_index]\n",
    "\n",
    "# X_train = X_train_split\n",
    "# y_train = y_train_split\n",
    "\n",
    "# reset index, make it starts from 0\n",
    "X_train.reset_index(drop=True,inplace=True)\n",
    "y_train.reset_index(drop=True,inplace=True)\n",
    "\n",
    "X_test.reset_index(drop=True,inplace=True)\n",
    "y_test.reset_index(drop=True,inplace=True)\n",
    "\n",
    "# X_val.reset_index(drop=True,inplace=True)\n",
    "# y_val.reset_index(drop=True,inplace=True)"
   ]
  },
  {
   "cell_type": "code",
   "execution_count": 13,
   "id": "917947f1",
   "metadata": {
    "colab": {
     "base_uri": "https://localhost:8080/"
    },
    "id": "917947f1",
    "outputId": "4c017d48-420f-4605-ad96-667a19b16602"
   },
   "outputs": [
    {
     "name": "stdout",
     "output_type": "stream",
     "text": [
      "The shape of the training dataset is (55978, 49)\n",
      "The shape of the testing dataset is (13995, 49)\n"
     ]
    }
   ],
   "source": [
    "print(f'The shape of the training dataset is {X_train.shape}')\n",
    "print(f'The shape of the testing dataset is {X_test.shape}')\n",
    "# print(f'The shape of the validation dataset is {X_val.shape}')\n"
   ]
  },
  {
   "cell_type": "code",
   "execution_count": 14,
   "id": "e3072dd1",
   "metadata": {
    "colab": {
     "base_uri": "https://localhost:8080/"
    },
    "id": "e3072dd1",
    "outputId": "80103265-1885-4718-b58b-6d7670cd2952"
   },
   "outputs": [
    {
     "data": {
      "text/plain": [
       "1    50933\n",
       "0     5045\n",
       "dtype: int64"
      ]
     },
     "execution_count": 14,
     "metadata": {},
     "output_type": "execute_result"
    }
   ],
   "source": [
    "y_train.value_counts()"
   ]
  },
  {
   "cell_type": "markdown",
   "id": "db5c6c18",
   "metadata": {},
   "source": [
    "#### 2.4 Data Preprocessing<a id=6.2></a>"
   ]
  },
  {
   "cell_type": "markdown",
   "id": "6f224f87",
   "metadata": {
    "id": "6f224f87"
   },
   "source": [
    "#### 2.4.1 Impute gender"
   ]
  },
  {
   "cell_type": "code",
   "execution_count": 15,
   "id": "e4f93be3",
   "metadata": {},
   "outputs": [],
   "source": [
    "# custimize my own imputer\n",
    "class MyImputer(BaseEstimator, TransformerMixin):\n",
    "    def __init__(self, col = None, missing_values = None, strategy = None):\n",
    "        self.col = col\n",
    "        self.missing_values = missing_values\n",
    "        self.strategy = strategy\n",
    "        self.imputer = None\n",
    "        \n",
    "    def fit(self,X,y):\n",
    "        self.imputer = SimpleImputer(missing_values = self.missing_values,strategy=self.strategy)\n",
    "        self.imputer.fit(X[[self.col]])\n",
    "        return self\n",
    "\n",
    "    def transform(self,X):\n",
    "        new_X = self.imputer.transform(X[[self.col]])\n",
    "        X[self.col] = new_X\n",
    "        return X"
   ]
  },
  {
   "cell_type": "code",
   "execution_count": 16,
   "id": "76823494",
   "metadata": {},
   "outputs": [],
   "source": [
    "obj = MyImputer('gender', 'Unknown/Invalid', 'most_frequent')\n",
    "obj.fit(X_train,y_train)\n",
    "X_train = obj.transform(X_train)"
   ]
  },
  {
   "cell_type": "code",
   "execution_count": 17,
   "id": "57e36d5e",
   "metadata": {
    "colab": {
     "base_uri": "https://localhost:8080/"
    },
    "id": "57e36d5e",
    "outputId": "f839555c-4fbd-4831-ad48-4f5174466e6f"
   },
   "outputs": [
    {
     "data": {
      "text/plain": [
       "Female    29706\n",
       "Male      26272\n",
       "Name: gender, dtype: int64"
      ]
     },
     "execution_count": 17,
     "metadata": {},
     "output_type": "execute_result"
    }
   ],
   "source": [
    "X_train['gender'].value_counts()"
   ]
  },
  {
   "cell_type": "markdown",
   "id": "e079b743",
   "metadata": {
    "id": "e079b743"
   },
   "source": [
    "##### 2.4.2 Group the categories from ICD-9 based on common attributes."
   ]
  },
  {
   "cell_type": "code",
   "execution_count": 18,
   "id": "f4793b47",
   "metadata": {
    "id": "f4793b47"
   },
   "outputs": [],
   "source": [
    "# create an operation to group the categories from ICD-9 based on common attributes.\n",
    "class GroupICD9IntoCatefories(BaseEstimator, TransformerMixin):\n",
    "# icd9 codes and groups\n",
    "# circulatory: 390–459, 785\n",
    "# respiratory: 460–519, 786\n",
    "# digestive: 520–579, 787\n",
    "# diabetes: 250.xx\n",
    "# injury: 800–999\n",
    "# musculoskeletal: 710–739\n",
    "# genitourinary: 580–629, 788\n",
    "# neoplasms: 140–239\n",
    "# other: other\n",
    "    @classmethod\n",
    "    def getICD9Group(cls, val):\n",
    "        category = ''\n",
    "        try:\n",
    "            num = int(float(val))\n",
    "            if (num >=390 and num <=459 ) or num == 785:\n",
    "                category = 'circulatory'\n",
    "            elif (num >= 460 and num <= 519) or num == 786:\n",
    "                category = 'respiratory'\n",
    "            elif (num >= 520 and num <= 579) or num == 787:\n",
    "                category = 'digestive'\n",
    "            elif num==250:\n",
    "                category = 'diabetes'\n",
    "            elif num >= 800 and num <= 999:\n",
    "                category = 'injury'\n",
    "            elif num >= 710 and num <= 739:\n",
    "                category = 'musculoskeletal'\n",
    "            elif (num >= 580 and num <= 629) or num == 788:\n",
    "                category = 'genitourinary'\n",
    "            elif num >= 140 and num <= 239:\n",
    "                category = 'neoplasms'\n",
    "            else:\n",
    "                category = 'other'\n",
    "        except ValueError:\n",
    "            category = 'other'\n",
    "        return category\n",
    "    @classmethod\n",
    "    def getNewColumnByICD9Group(cls, df, col, name):\n",
    "        newCol = []\n",
    "        for i, val in df[col].items():\n",
    "            newCol.append(GroupICD9IntoCatefories.getICD9Group(val))\n",
    "        return pd.Series(newCol, name = name)\n",
    "    \n",
    "    def fit(self, X, y):\n",
    "        return self\n",
    "    \n",
    "    def transform(self, X):\n",
    "        newCol_diag1 = GroupICD9IntoCatefories.getNewColumnByICD9Group(X, 'diag_1', 'diag_1_new')\n",
    "        newCol_diag2 = GroupICD9IntoCatefories.getNewColumnByICD9Group(X, 'diag_2', 'diag_2_new')\n",
    "        newCol_diag3 = GroupICD9IntoCatefories.getNewColumnByICD9Group(X, 'diag_3', 'diag_3_new')\n",
    "        df_new0 = X.reset_index()\n",
    "        df_new1 = pd.concat([df_new0,newCol_diag1], axis=1)\n",
    "        df_new2 = pd.concat([df_new1,newCol_diag2], axis=1)\n",
    "        df_new3 = pd.concat([df_new2,newCol_diag3], axis=1)\n",
    "        return df_new3"
   ]
  },
  {
   "cell_type": "code",
   "execution_count": 19,
   "id": "874a97bd",
   "metadata": {
    "colab": {
     "base_uri": "https://localhost:8080/"
    },
    "id": "874a97bd",
    "outputId": "2678931b-b7c7-4c8a-f7c8-9eba817c2c0b"
   },
   "outputs": [
    {
     "name": "stdout",
     "output_type": "stream",
     "text": [
      "The shape of the current dataset is: (55978, 53)\n"
     ]
    }
   ],
   "source": [
    "obj = GroupICD9IntoCatefories()\n",
    "X_train1 = obj.transform(X_train)\n",
    "print(f'The shape of the current dataset is: {X_train1.shape}')"
   ]
  },
  {
   "cell_type": "code",
   "execution_count": 20,
   "id": "4033df80",
   "metadata": {
    "colab": {
     "base_uri": "https://localhost:8080/"
    },
    "id": "4033df80",
    "outputId": "893dd91f-86a6-4f81-d993-fd09b3c573ab"
   },
   "outputs": [
    {
     "data": {
      "text/plain": [
       "other              16911\n",
       "circulatory        16750\n",
       "diabetes           10086\n",
       "respiratory         3740\n",
       "genitourinary       3232\n",
       "digestive           2127\n",
       "injury              1130\n",
       "musculoskeletal     1102\n",
       "neoplasms            900\n",
       "Name: diag_3_new, dtype: int64"
      ]
     },
     "execution_count": 20,
     "metadata": {},
     "output_type": "execute_result"
    }
   ],
   "source": [
    "# check the result\n",
    "X_train1['diag_3_new'].value_counts()"
   ]
  },
  {
   "cell_type": "markdown",
   "id": "899fccb9",
   "metadata": {
    "id": "899fccb9"
   },
   "source": [
    "##### 2.4.3 Drop unnecessary columns"
   ]
  },
  {
   "cell_type": "code",
   "execution_count": 21,
   "id": "06cb5a92",
   "metadata": {
    "colab": {
     "base_uri": "https://localhost:8080/",
     "height": 1000
    },
    "id": "06cb5a92",
    "outputId": "9f879569-3b4a-4964-ba74-ce439fcc3a27",
    "scrolled": true
   },
   "outputs": [
    {
     "data": {
      "text/html": [
       "<div>\n",
       "<style scoped>\n",
       "    .dataframe tbody tr th:only-of-type {\n",
       "        vertical-align: middle;\n",
       "    }\n",
       "\n",
       "    .dataframe tbody tr th {\n",
       "        vertical-align: top;\n",
       "    }\n",
       "\n",
       "    .dataframe thead th {\n",
       "        text-align: right;\n",
       "    }\n",
       "</style>\n",
       "<table border=\"1\" class=\"dataframe\">\n",
       "  <thead>\n",
       "    <tr style=\"text-align: right;\">\n",
       "      <th></th>\n",
       "      <th>num_unique</th>\n",
       "    </tr>\n",
       "  </thead>\n",
       "  <tbody>\n",
       "    <tr>\n",
       "      <th>index</th>\n",
       "      <td>55978</td>\n",
       "    </tr>\n",
       "    <tr>\n",
       "      <th>encounter_id</th>\n",
       "      <td>55978</td>\n",
       "    </tr>\n",
       "    <tr>\n",
       "      <th>patient_nbr</th>\n",
       "      <td>55978</td>\n",
       "    </tr>\n",
       "    <tr>\n",
       "      <th>race</th>\n",
       "      <td>6</td>\n",
       "    </tr>\n",
       "    <tr>\n",
       "      <th>gender</th>\n",
       "      <td>2</td>\n",
       "    </tr>\n",
       "    <tr>\n",
       "      <th>age</th>\n",
       "      <td>10</td>\n",
       "    </tr>\n",
       "    <tr>\n",
       "      <th>weight</th>\n",
       "      <td>10</td>\n",
       "    </tr>\n",
       "    <tr>\n",
       "      <th>admission_type_id</th>\n",
       "      <td>8</td>\n",
       "    </tr>\n",
       "    <tr>\n",
       "      <th>discharge_disposition_id</th>\n",
       "      <td>21</td>\n",
       "    </tr>\n",
       "    <tr>\n",
       "      <th>admission_source_id</th>\n",
       "      <td>17</td>\n",
       "    </tr>\n",
       "    <tr>\n",
       "      <th>time_in_hospital</th>\n",
       "      <td>14</td>\n",
       "    </tr>\n",
       "    <tr>\n",
       "      <th>payer_code</th>\n",
       "      <td>18</td>\n",
       "    </tr>\n",
       "    <tr>\n",
       "      <th>medical_specialty</th>\n",
       "      <td>68</td>\n",
       "    </tr>\n",
       "    <tr>\n",
       "      <th>num_lab_procedures</th>\n",
       "      <td>114</td>\n",
       "    </tr>\n",
       "    <tr>\n",
       "      <th>num_procedures</th>\n",
       "      <td>7</td>\n",
       "    </tr>\n",
       "    <tr>\n",
       "      <th>num_medications</th>\n",
       "      <td>75</td>\n",
       "    </tr>\n",
       "    <tr>\n",
       "      <th>number_outpatient</th>\n",
       "      <td>30</td>\n",
       "    </tr>\n",
       "    <tr>\n",
       "      <th>number_emergency</th>\n",
       "      <td>17</td>\n",
       "    </tr>\n",
       "    <tr>\n",
       "      <th>number_inpatient</th>\n",
       "      <td>13</td>\n",
       "    </tr>\n",
       "    <tr>\n",
       "      <th>diag_1</th>\n",
       "      <td>675</td>\n",
       "    </tr>\n",
       "    <tr>\n",
       "      <th>diag_2</th>\n",
       "      <td>698</td>\n",
       "    </tr>\n",
       "    <tr>\n",
       "      <th>diag_3</th>\n",
       "      <td>730</td>\n",
       "    </tr>\n",
       "    <tr>\n",
       "      <th>number_diagnoses</th>\n",
       "      <td>16</td>\n",
       "    </tr>\n",
       "    <tr>\n",
       "      <th>max_glu_serum</th>\n",
       "      <td>4</td>\n",
       "    </tr>\n",
       "    <tr>\n",
       "      <th>A1Cresult</th>\n",
       "      <td>4</td>\n",
       "    </tr>\n",
       "    <tr>\n",
       "      <th>metformin</th>\n",
       "      <td>4</td>\n",
       "    </tr>\n",
       "    <tr>\n",
       "      <th>repaglinide</th>\n",
       "      <td>4</td>\n",
       "    </tr>\n",
       "    <tr>\n",
       "      <th>nateglinide</th>\n",
       "      <td>4</td>\n",
       "    </tr>\n",
       "    <tr>\n",
       "      <th>chlorpropamide</th>\n",
       "      <td>4</td>\n",
       "    </tr>\n",
       "    <tr>\n",
       "      <th>glimepiride</th>\n",
       "      <td>4</td>\n",
       "    </tr>\n",
       "    <tr>\n",
       "      <th>acetohexamide</th>\n",
       "      <td>2</td>\n",
       "    </tr>\n",
       "    <tr>\n",
       "      <th>glipizide</th>\n",
       "      <td>4</td>\n",
       "    </tr>\n",
       "    <tr>\n",
       "      <th>glyburide</th>\n",
       "      <td>4</td>\n",
       "    </tr>\n",
       "    <tr>\n",
       "      <th>tolbutamide</th>\n",
       "      <td>2</td>\n",
       "    </tr>\n",
       "    <tr>\n",
       "      <th>pioglitazone</th>\n",
       "      <td>4</td>\n",
       "    </tr>\n",
       "    <tr>\n",
       "      <th>rosiglitazone</th>\n",
       "      <td>4</td>\n",
       "    </tr>\n",
       "    <tr>\n",
       "      <th>acarbose</th>\n",
       "      <td>3</td>\n",
       "    </tr>\n",
       "    <tr>\n",
       "      <th>miglitol</th>\n",
       "      <td>4</td>\n",
       "    </tr>\n",
       "    <tr>\n",
       "      <th>troglitazone</th>\n",
       "      <td>2</td>\n",
       "    </tr>\n",
       "    <tr>\n",
       "      <th>tolazamide</th>\n",
       "      <td>2</td>\n",
       "    </tr>\n",
       "    <tr>\n",
       "      <th>examide</th>\n",
       "      <td>1</td>\n",
       "    </tr>\n",
       "    <tr>\n",
       "      <th>citoglipton</th>\n",
       "      <td>1</td>\n",
       "    </tr>\n",
       "    <tr>\n",
       "      <th>insulin</th>\n",
       "      <td>4</td>\n",
       "    </tr>\n",
       "    <tr>\n",
       "      <th>glyburide-metformin</th>\n",
       "      <td>4</td>\n",
       "    </tr>\n",
       "    <tr>\n",
       "      <th>glipizide-metformin</th>\n",
       "      <td>2</td>\n",
       "    </tr>\n",
       "    <tr>\n",
       "      <th>glimepiride-pioglitazone</th>\n",
       "      <td>1</td>\n",
       "    </tr>\n",
       "    <tr>\n",
       "      <th>metformin-rosiglitazone</th>\n",
       "      <td>2</td>\n",
       "    </tr>\n",
       "    <tr>\n",
       "      <th>metformin-pioglitazone</th>\n",
       "      <td>2</td>\n",
       "    </tr>\n",
       "    <tr>\n",
       "      <th>change</th>\n",
       "      <td>2</td>\n",
       "    </tr>\n",
       "    <tr>\n",
       "      <th>diabetesMed</th>\n",
       "      <td>2</td>\n",
       "    </tr>\n",
       "    <tr>\n",
       "      <th>diag_1_new</th>\n",
       "      <td>9</td>\n",
       "    </tr>\n",
       "    <tr>\n",
       "      <th>diag_2_new</th>\n",
       "      <td>9</td>\n",
       "    </tr>\n",
       "    <tr>\n",
       "      <th>diag_3_new</th>\n",
       "      <td>9</td>\n",
       "    </tr>\n",
       "  </tbody>\n",
       "</table>\n",
       "</div>"
      ],
      "text/plain": [
       "                          num_unique\n",
       "index                          55978\n",
       "encounter_id                   55978\n",
       "patient_nbr                    55978\n",
       "race                               6\n",
       "gender                             2\n",
       "age                               10\n",
       "weight                            10\n",
       "admission_type_id                  8\n",
       "discharge_disposition_id          21\n",
       "admission_source_id               17\n",
       "time_in_hospital                  14\n",
       "payer_code                        18\n",
       "medical_specialty                 68\n",
       "num_lab_procedures               114\n",
       "num_procedures                     7\n",
       "num_medications                   75\n",
       "number_outpatient                 30\n",
       "number_emergency                  17\n",
       "number_inpatient                  13\n",
       "diag_1                           675\n",
       "diag_2                           698\n",
       "diag_3                           730\n",
       "number_diagnoses                  16\n",
       "max_glu_serum                      4\n",
       "A1Cresult                          4\n",
       "metformin                          4\n",
       "repaglinide                        4\n",
       "nateglinide                        4\n",
       "chlorpropamide                     4\n",
       "glimepiride                        4\n",
       "acetohexamide                      2\n",
       "glipizide                          4\n",
       "glyburide                          4\n",
       "tolbutamide                        2\n",
       "pioglitazone                       4\n",
       "rosiglitazone                      4\n",
       "acarbose                           3\n",
       "miglitol                           4\n",
       "troglitazone                       2\n",
       "tolazamide                         2\n",
       "examide                            1\n",
       "citoglipton                        1\n",
       "insulin                            4\n",
       "glyburide-metformin                4\n",
       "glipizide-metformin                2\n",
       "glimepiride-pioglitazone           1\n",
       "metformin-rosiglitazone            2\n",
       "metformin-pioglitazone             2\n",
       "change                             2\n",
       "diabetesMed                        2\n",
       "diag_1_new                         9\n",
       "diag_2_new                         9\n",
       "diag_3_new                         9"
      ]
     },
     "execution_count": 21,
     "metadata": {},
     "output_type": "execute_result"
    }
   ],
   "source": [
    "# check the number of unqiue values of each variable\n",
    "def check_unique_values(df):\n",
    "    num_unique = pd.DataFrame(df.nunique())\n",
    "    num_unique.columns = ['num_unique']\n",
    "    return num_unique\n",
    "\n",
    "check_unique_values(X_train1)"
   ]
  },
  {
   "cell_type": "code",
   "execution_count": 22,
   "id": "79e5104c",
   "metadata": {
    "id": "79e5104c"
   },
   "outputs": [],
   "source": [
    "# remove weight and payer code since they have a high percentage of missing values\n",
    "# (This is indicated in the paper[https://www.hindawi.com/journals/bmri/2014/781670/#introduction]\n",
    "# drop 'examide', 'citoglipton' and 'glimepiride-pioglitazone' because they have only one category\n",
    "# df = df_new3.drop(columns=['weight', 'payer_code', 'encounter_id', 'patient_nbr', 'diag_1', 'diag_2', 'diag_3', 'index', 'examide', 'citoglipton', 'glimepiride-pioglitazone'])\n",
    "\n",
    "# check duplicates\n",
    "# print(f\"The number of duplicates: {df.duplicated().sum()}\")\n",
    "\n",
    "\n",
    "class DropFeatures(BaseEstimator, TransformerMixin):\n",
    "    def __init__(self, features):\n",
    "        self.features = features\n",
    "    \n",
    "    def fit(self, X, y):\n",
    "        return self\n",
    "    \n",
    "    def transform(self, X):\n",
    "        return X.drop(columns=self.features)\n"
   ]
  },
  {
   "cell_type": "code",
   "execution_count": 23,
   "id": "736c8552",
   "metadata": {
    "colab": {
     "base_uri": "https://localhost:8080/"
    },
    "id": "736c8552",
    "outputId": "ed93ecbe-f41b-4adc-9247-0f5b6695914c"
   },
   "outputs": [
    {
     "name": "stdout",
     "output_type": "stream",
     "text": [
      "The shape of the current dataset is: (55978, 41)\n"
     ]
    }
   ],
   "source": [
    "# since 'examide', 'citoglipton' and 'glimepiride-pioglitazone' have only one category, they can be dropped\n",
    "drop_list=['weight', 'payer_code', 'encounter_id', 'patient_nbr', 'diag_1', 'diag_2', \n",
    "           'diag_3', 'examide','index', 'acetohexamide','citoglipton', 'glimepiride-pioglitazone']\n",
    "\n",
    "obj = DropFeatures(drop_list)\n",
    "X_train2 = obj.transform(X_train1)\n",
    "print(f'The shape of the current dataset is: {X_train2.shape}')"
   ]
  },
  {
   "cell_type": "code",
   "execution_count": 24,
   "id": "3f87887b",
   "metadata": {
    "colab": {
     "base_uri": "https://localhost:8080/"
    },
    "id": "3f87887b",
    "outputId": "43a05083-8cd6-446b-d103-099dc229ea28"
   },
   "outputs": [
    {
     "data": {
      "text/plain": [
       "Index(['race', 'gender', 'age', 'admission_type_id',\n",
       "       'discharge_disposition_id', 'admission_source_id', 'time_in_hospital',\n",
       "       'medical_specialty', 'num_lab_procedures', 'num_procedures',\n",
       "       'num_medications', 'number_outpatient', 'number_emergency',\n",
       "       'number_inpatient', 'number_diagnoses', 'max_glu_serum', 'A1Cresult',\n",
       "       'metformin', 'repaglinide', 'nateglinide', 'chlorpropamide',\n",
       "       'glimepiride', 'glipizide', 'glyburide', 'tolbutamide', 'pioglitazone',\n",
       "       'rosiglitazone', 'acarbose', 'miglitol', 'troglitazone', 'tolazamide',\n",
       "       'insulin', 'glyburide-metformin', 'glipizide-metformin',\n",
       "       'metformin-rosiglitazone', 'metformin-pioglitazone', 'change',\n",
       "       'diabetesMed', 'diag_1_new', 'diag_2_new', 'diag_3_new'],\n",
       "      dtype='object')"
      ]
     },
     "execution_count": 24,
     "metadata": {},
     "output_type": "execute_result"
    }
   ],
   "source": [
    "# check\n",
    "X_train2.columns"
   ]
  },
  {
   "cell_type": "markdown",
   "id": "b2c17dcc",
   "metadata": {
    "id": "b2c17dcc"
   },
   "source": [
    "##### 2.4.4 Group infrequent values into one a single category"
   ]
  },
  {
   "cell_type": "code",
   "execution_count": 25,
   "id": "257ff112",
   "metadata": {
    "id": "257ff112"
   },
   "outputs": [],
   "source": [
    "# check the proportion of each category\n",
    "def checkCategoryProp(se):\n",
    "    counts = se.value_counts()\n",
    "    prop = counts/counts.sum()\n",
    "    return pd.DataFrame({\n",
    "        'category': counts.index,\n",
    "        'count': counts,\n",
    "        'proportion': prop\n",
    "    })\n"
   ]
  },
  {
   "cell_type": "code",
   "execution_count": 26,
   "id": "6a63e147",
   "metadata": {
    "colab": {
     "base_uri": "https://localhost:8080/"
    },
    "id": "6a63e147",
    "outputId": "41557b48-5c91-4c65-b798-882e0f2d22c2"
   },
   "outputs": [
    {
     "data": {
      "text/html": [
       "<div>\n",
       "<style scoped>\n",
       "    .dataframe tbody tr th:only-of-type {\n",
       "        vertical-align: middle;\n",
       "    }\n",
       "\n",
       "    .dataframe tbody tr th {\n",
       "        vertical-align: top;\n",
       "    }\n",
       "\n",
       "    .dataframe thead th {\n",
       "        text-align: right;\n",
       "    }\n",
       "</style>\n",
       "<table border=\"1\" class=\"dataframe\">\n",
       "  <thead>\n",
       "    <tr style=\"text-align: right;\">\n",
       "      <th></th>\n",
       "      <th>category</th>\n",
       "      <th>count</th>\n",
       "      <th>proportion</th>\n",
       "    </tr>\n",
       "  </thead>\n",
       "  <tbody>\n",
       "    <tr>\n",
       "      <th>?</th>\n",
       "      <td>?</td>\n",
       "      <td>26952</td>\n",
       "      <td>0.481475</td>\n",
       "    </tr>\n",
       "    <tr>\n",
       "      <th>InternalMedicine</th>\n",
       "      <td>InternalMedicine</td>\n",
       "      <td>8461</td>\n",
       "      <td>0.151149</td>\n",
       "    </tr>\n",
       "    <tr>\n",
       "      <th>Family/GeneralPractice</th>\n",
       "      <td>Family/GeneralPractice</td>\n",
       "      <td>3966</td>\n",
       "      <td>0.070849</td>\n",
       "    </tr>\n",
       "    <tr>\n",
       "      <th>Emergency/Trauma</th>\n",
       "      <td>Emergency/Trauma</td>\n",
       "      <td>3516</td>\n",
       "      <td>0.062810</td>\n",
       "    </tr>\n",
       "    <tr>\n",
       "      <th>Cardiology</th>\n",
       "      <td>Cardiology</td>\n",
       "      <td>3360</td>\n",
       "      <td>0.060024</td>\n",
       "    </tr>\n",
       "    <tr>\n",
       "      <th>...</th>\n",
       "      <td>...</td>\n",
       "      <td>...</td>\n",
       "      <td>...</td>\n",
       "    </tr>\n",
       "    <tr>\n",
       "      <th>Surgery-PlasticwithinHeadandNeck</th>\n",
       "      <td>Surgery-PlasticwithinHeadandNeck</td>\n",
       "      <td>1</td>\n",
       "      <td>0.000018</td>\n",
       "    </tr>\n",
       "    <tr>\n",
       "      <th>Dermatology</th>\n",
       "      <td>Dermatology</td>\n",
       "      <td>1</td>\n",
       "      <td>0.000018</td>\n",
       "    </tr>\n",
       "    <tr>\n",
       "      <th>SportsMedicine</th>\n",
       "      <td>SportsMedicine</td>\n",
       "      <td>0</td>\n",
       "      <td>0.000000</td>\n",
       "    </tr>\n",
       "    <tr>\n",
       "      <th>Psychiatry-Addictive</th>\n",
       "      <td>Psychiatry-Addictive</td>\n",
       "      <td>0</td>\n",
       "      <td>0.000000</td>\n",
       "    </tr>\n",
       "    <tr>\n",
       "      <th>Neurophysiology</th>\n",
       "      <td>Neurophysiology</td>\n",
       "      <td>0</td>\n",
       "      <td>0.000000</td>\n",
       "    </tr>\n",
       "  </tbody>\n",
       "</table>\n",
       "<p>71 rows × 3 columns</p>\n",
       "</div>"
      ],
      "text/plain": [
       "                                                          category  count  \\\n",
       "?                                                                ?  26952   \n",
       "InternalMedicine                                  InternalMedicine   8461   \n",
       "Family/GeneralPractice                      Family/GeneralPractice   3966   \n",
       "Emergency/Trauma                                  Emergency/Trauma   3516   \n",
       "Cardiology                                              Cardiology   3360   \n",
       "...                                                            ...    ...   \n",
       "Surgery-PlasticwithinHeadandNeck  Surgery-PlasticwithinHeadandNeck      1   \n",
       "Dermatology                                            Dermatology      1   \n",
       "SportsMedicine                                      SportsMedicine      0   \n",
       "Psychiatry-Addictive                          Psychiatry-Addictive      0   \n",
       "Neurophysiology                                    Neurophysiology      0   \n",
       "\n",
       "                                  proportion  \n",
       "?                                   0.481475  \n",
       "InternalMedicine                    0.151149  \n",
       "Family/GeneralPractice              0.070849  \n",
       "Emergency/Trauma                    0.062810  \n",
       "Cardiology                          0.060024  \n",
       "...                                      ...  \n",
       "Surgery-PlasticwithinHeadandNeck    0.000018  \n",
       "Dermatology                         0.000018  \n",
       "SportsMedicine                      0.000000  \n",
       "Psychiatry-Addictive                0.000000  \n",
       "Neurophysiology                     0.000000  \n",
       "\n",
       "[71 rows x 3 columns]"
      ]
     },
     "execution_count": 26,
     "metadata": {},
     "output_type": "execute_result"
    }
   ],
   "source": [
    "# print(check_unique_values(df_new3))\n",
    "# checkCategoryProp(df_new3['admission_type_id'])\n",
    "# checkCategoryProp(df_new3['discharge_disposition_id'])\n",
    "# checkCategoryProp(df_new3['admission_source_id'])\n",
    "table = checkCategoryProp(X_train2['medical_specialty'])\n",
    "table\n",
    "# table[checkCategoryProp(X_train2['medical_specialty'])['proportion'] < 0.01]['category'].tolist()"
   ]
  },
  {
   "cell_type": "code",
   "execution_count": 27,
   "id": "069f3c62",
   "metadata": {
    "id": "069f3c62",
    "scrolled": true
   },
   "outputs": [],
   "source": [
    "# create an operation to group infrequent values into one a single category\n",
    "class GroupInfrequentCategories(BaseEstimator, TransformerMixin): \n",
    "    def __init__(self, threshold=0.01):\n",
    "        # threshold below which the group values are dropped\n",
    "        self.threshold = threshold\n",
    "        # record {column_name: [category_name1, category_name2, ...]}\n",
    "        self.dict_cols_cats = {}\n",
    "        \n",
    "    # check the proportion of each category\n",
    "    def checkCategoryProp(self, se):\n",
    "        counts = se.value_counts()\n",
    "        prop = counts/counts.sum()\n",
    "        return pd.DataFrame({\n",
    "            'category': counts.index,\n",
    "            'count': counts,\n",
    "            'proportion': prop\n",
    "        })\n",
    "    \n",
    "    def get_infrequent_categories(self, X, col_name, threshold, group_value):\n",
    "        # change all the values that are below the threshold to the groupValue\n",
    "        # return removed categories \n",
    "        table = self.checkCategoryProp(X[col_name])\n",
    "        vals_to_group = table[(table['proportion'] < threshold)]['category'].tolist()\n",
    "        return vals_to_group\n",
    "\n",
    "    def fit(self, X, y):\n",
    "        dd_vals = self.get_infrequent_categories(X, 'discharge_disposition_id', self.threshold, 0)\n",
    "        ads_vals = self.get_infrequent_categories(X, 'admission_source_id', self.threshold, 0)\n",
    "        ms_vals = self.get_infrequent_categories(X, 'medical_specialty', self.threshold, 'other')\n",
    "        \n",
    "        self.dict_cols_cats = {\n",
    "            'discharge_disposition_id': dd_vals,\n",
    "            'admission_source_id': ads_vals,\n",
    "            'medical_specialty': ms_vals,\n",
    "        }\n",
    "        return self\n",
    "        \n",
    "    def transform(self, X):\n",
    "        X['discharge_disposition_id'].replace(self.dict_cols_cats['discharge_disposition_id'], 0, inplace=True)\n",
    "        X['admission_source_id'].replace(self.dict_cols_cats['admission_source_id'], 0, inplace=True)\n",
    "        X['medical_specialty'].replace(self.dict_cols_cats['medical_specialty'], 'other', inplace=True)         \n",
    "        return X\n",
    "    "
   ]
  },
  {
   "cell_type": "code",
   "execution_count": 28,
   "id": "d1969eb5",
   "metadata": {
    "colab": {
     "base_uri": "https://localhost:8080/",
     "height": 412
    },
    "id": "d1969eb5",
    "outputId": "aa2b07a0-d3e2-4dda-8564-8a778c7417fa"
   },
   "outputs": [
    {
     "name": "stdout",
     "output_type": "stream",
     "text": [
      "The shape of the current dataset is: (55978, 41)\n"
     ]
    },
    {
     "data": {
      "text/html": [
       "<div>\n",
       "<style scoped>\n",
       "    .dataframe tbody tr th:only-of-type {\n",
       "        vertical-align: middle;\n",
       "    }\n",
       "\n",
       "    .dataframe tbody tr th {\n",
       "        vertical-align: top;\n",
       "    }\n",
       "\n",
       "    .dataframe thead th {\n",
       "        text-align: right;\n",
       "    }\n",
       "</style>\n",
       "<table border=\"1\" class=\"dataframe\">\n",
       "  <thead>\n",
       "    <tr style=\"text-align: right;\">\n",
       "      <th></th>\n",
       "      <th>category</th>\n",
       "      <th>count</th>\n",
       "      <th>proportion</th>\n",
       "    </tr>\n",
       "  </thead>\n",
       "  <tbody>\n",
       "    <tr>\n",
       "      <th>?</th>\n",
       "      <td>?</td>\n",
       "      <td>26952</td>\n",
       "      <td>0.481475</td>\n",
       "    </tr>\n",
       "    <tr>\n",
       "      <th>InternalMedicine</th>\n",
       "      <td>InternalMedicine</td>\n",
       "      <td>8461</td>\n",
       "      <td>0.151149</td>\n",
       "    </tr>\n",
       "    <tr>\n",
       "      <th>other</th>\n",
       "      <td>other</td>\n",
       "      <td>4878</td>\n",
       "      <td>0.087141</td>\n",
       "    </tr>\n",
       "    <tr>\n",
       "      <th>Family/GeneralPractice</th>\n",
       "      <td>Family/GeneralPractice</td>\n",
       "      <td>3966</td>\n",
       "      <td>0.070849</td>\n",
       "    </tr>\n",
       "    <tr>\n",
       "      <th>Emergency/Trauma</th>\n",
       "      <td>Emergency/Trauma</td>\n",
       "      <td>3516</td>\n",
       "      <td>0.062810</td>\n",
       "    </tr>\n",
       "    <tr>\n",
       "      <th>Cardiology</th>\n",
       "      <td>Cardiology</td>\n",
       "      <td>3360</td>\n",
       "      <td>0.060024</td>\n",
       "    </tr>\n",
       "    <tr>\n",
       "      <th>Surgery-General</th>\n",
       "      <td>Surgery-General</td>\n",
       "      <td>1777</td>\n",
       "      <td>0.031745</td>\n",
       "    </tr>\n",
       "    <tr>\n",
       "      <th>Orthopedics</th>\n",
       "      <td>Orthopedics</td>\n",
       "      <td>919</td>\n",
       "      <td>0.016417</td>\n",
       "    </tr>\n",
       "    <tr>\n",
       "      <th>Orthopedics-Reconstructive</th>\n",
       "      <td>Orthopedics-Reconstructive</td>\n",
       "      <td>849</td>\n",
       "      <td>0.015167</td>\n",
       "    </tr>\n",
       "    <tr>\n",
       "      <th>Nephrology</th>\n",
       "      <td>Nephrology</td>\n",
       "      <td>652</td>\n",
       "      <td>0.011647</td>\n",
       "    </tr>\n",
       "    <tr>\n",
       "      <th>Radiologist</th>\n",
       "      <td>Radiologist</td>\n",
       "      <td>648</td>\n",
       "      <td>0.011576</td>\n",
       "    </tr>\n",
       "  </tbody>\n",
       "</table>\n",
       "</div>"
      ],
      "text/plain": [
       "                                              category  count  proportion\n",
       "?                                                    ?  26952    0.481475\n",
       "InternalMedicine                      InternalMedicine   8461    0.151149\n",
       "other                                            other   4878    0.087141\n",
       "Family/GeneralPractice          Family/GeneralPractice   3966    0.070849\n",
       "Emergency/Trauma                      Emergency/Trauma   3516    0.062810\n",
       "Cardiology                                  Cardiology   3360    0.060024\n",
       "Surgery-General                        Surgery-General   1777    0.031745\n",
       "Orthopedics                                Orthopedics    919    0.016417\n",
       "Orthopedics-Reconstructive  Orthopedics-Reconstructive    849    0.015167\n",
       "Nephrology                                  Nephrology    652    0.011647\n",
       "Radiologist                                Radiologist    648    0.011576"
      ]
     },
     "execution_count": 28,
     "metadata": {},
     "output_type": "execute_result"
    }
   ],
   "source": [
    "obj = GroupInfrequentCategories()\n",
    "\n",
    "obj.fit(X_train2,y)\n",
    "obj.transform(X_train2)\n",
    "print(f'The shape of the current dataset is: {X_train2.shape}')\n",
    "checkCategoryProp(X_train2['medical_specialty'])"
   ]
  },
  {
   "cell_type": "markdown",
   "id": "8d24869e",
   "metadata": {
    "id": "8d24869e"
   },
   "source": [
    "### 3. Feature Selection <a id=7></a>\n",
    "[back to top](#100)"
   ]
  },
  {
   "cell_type": "markdown",
   "id": "f14db0c8",
   "metadata": {
    "id": "f14db0c8",
    "scrolled": false
   },
   "source": [
    "#### 3.1  Check Categorical and Numerical Features <a id=9></a>"
   ]
  },
  {
   "cell_type": "code",
   "execution_count": 29,
   "id": "cf6ca4e0",
   "metadata": {
    "colab": {
     "base_uri": "https://localhost:8080/"
    },
    "id": "cf6ca4e0",
    "outputId": "2f73bb18-df91-435d-88c3-6c9b4889f7ef",
    "scrolled": true
   },
   "outputs": [
    {
     "data": {
      "text/plain": [
       "Index(['race', 'gender', 'age', 'admission_type_id',\n",
       "       'discharge_disposition_id', 'admission_source_id', 'time_in_hospital',\n",
       "       'medical_specialty', 'num_lab_procedures', 'num_procedures',\n",
       "       'num_medications', 'number_outpatient', 'number_emergency',\n",
       "       'number_inpatient', 'number_diagnoses', 'max_glu_serum', 'A1Cresult',\n",
       "       'metformin', 'repaglinide', 'nateglinide', 'chlorpropamide',\n",
       "       'glimepiride', 'glipizide', 'glyburide', 'tolbutamide', 'pioglitazone',\n",
       "       'rosiglitazone', 'acarbose', 'miglitol', 'troglitazone', 'tolazamide',\n",
       "       'insulin', 'glyburide-metformin', 'glipizide-metformin',\n",
       "       'metformin-rosiglitazone', 'metformin-pioglitazone', 'change',\n",
       "       'diabetesMed', 'diag_1_new', 'diag_2_new', 'diag_3_new'],\n",
       "      dtype='object')"
      ]
     },
     "execution_count": 29,
     "metadata": {},
     "output_type": "execute_result"
    }
   ],
   "source": [
    "X_train2.columns"
   ]
  },
  {
   "cell_type": "code",
   "execution_count": 30,
   "id": "7d83afa5",
   "metadata": {
    "colab": {
     "base_uri": "https://localhost:8080/"
    },
    "id": "7d83afa5",
    "outputId": "047ea149-399e-4ccf-b954-535a751f325e"
   },
   "outputs": [
    {
     "name": "stdout",
     "output_type": "stream",
     "text": [
      "The length of categorical featres: 34\n",
      "The length of numerical features: 8\n"
     ]
    }
   ],
   "source": [
    "categorical_features = ['race', 'gender', 'age', 'admission_type_id','discharge_disposition_id', \n",
    "                        'admission_source_id', 'medical_specialty', 'max_glu_serum', 'A1Cresult',\n",
    "                        'metformin', 'repaglinide', 'nateglinide', 'chlorpropamide', 'glimepiride',\n",
    "                        'acetohexamide', 'glipizide', 'glyburide', 'tolbutamide', 'pioglitazone',\n",
    "                        'rosiglitazone', 'acarbose', 'miglitol', 'troglitazone', 'tolazamide', 'insulin',\n",
    "                        'glyburide-metformin', 'glipizide-metformin', 'metformin-rosiglitazone',\n",
    "                        'metformin-pioglitazone', 'change', 'diabetesMed', 'diag_1_new', 'diag_2_new',\n",
    "                        'diag_3_new'\n",
    "                       ]\n",
    "\n",
    "numerical_features = ['time_in_hospital', 'num_lab_procedures', 'num_procedures', 'num_medications', \n",
    "                      'number_outpatient', 'number_emergency','number_inpatient', 'number_diagnoses']\n",
    "\n",
    "print(f'The length of categorical featres: {len(categorical_features)}')\n",
    "print(f'The length of numerical features: {len(numerical_features)}')\n"
   ]
  },
  {
   "cell_type": "markdown",
   "id": "67893061",
   "metadata": {
    "id": "67893061",
    "scrolled": false
   },
   "source": [
    "#### 3.2 Chi-Square test <a id=10></a>"
   ]
  },
  {
   "cell_type": "code",
   "execution_count": 31,
   "id": "8dfc92c2",
   "metadata": {
    "id": "8dfc92c2",
    "scrolled": true
   },
   "outputs": [],
   "source": [
    "# create an operation to change type of certain columns\n",
    "class DropFeaturesWithLowChi2Pval(BaseEstimator, TransformerMixin):\n",
    "    \n",
    "    def __init__(self, categorical_features = None, significance_level=0.1):\n",
    "        self.significance_level = significance_level\n",
    "        self.table = None\n",
    "        self.categorical_features = categorical_features\n",
    "        self.categorical_features_dropped = None\n",
    "              \n",
    "    # function of conducting chi-square test\n",
    "    @staticmethod\n",
    "    def _chi2_test(X, y, col):\n",
    "        # Compute the contingency table\n",
    "        contingency_table = pd.crosstab(X[col], y)\n",
    "        # Compute the chi-square test statistic and p-value\n",
    "        chi2, pval, dof, expected = chi2_contingency(contingency_table)\n",
    "        return [chi2, pval, dof, expected]\n",
    "\n",
    "    def plot_chi2_table(self, X, y):\n",
    "        chi2s = []\n",
    "        pvals = []\n",
    "        dofs = []\n",
    "        for c in self.categorical_features:\n",
    "            chi2, pval, dof, _ = self._chi2_test(X,y,c)\n",
    "            chi2s.append(chi2)\n",
    "            pvals.append(pval)\n",
    "            dofs.append(dof)\n",
    "\n",
    "        significant = ['*' if x<self.significance_level else '' for x in pvals]\n",
    "\n",
    "        self.table = pd.DataFrame({\n",
    "            'chi2': chi2s,\n",
    "            'pval': pvals,\n",
    "            'dof': dofs,\n",
    "            'significance': significant,\n",
    "        })\n",
    "    \n",
    "    def fit(self, X, y):\n",
    "        print('GroupICD9IntoCatefories.fit()')\n",
    "        # get all the categorical features\n",
    "        self.categorical_features = [col for col in X.columns if X[col].dtype.name == 'category']\n",
    "        self.plot_chi2_table(X, y)\n",
    "        pvals = self.table['pval']\n",
    "        index_drop = [ind for ind, val in enumerate(pvals) if val>=self.significance_level]\n",
    "        self.categorical_features_dropped = [self.categorical_features[i] for i in index_drop] \n",
    "        return self\n",
    "        \n",
    "    def transform(self, X):\n",
    "        print('GroupICD9IntoCatefories.transform()')\n",
    "\n",
    "        if self.categorical_features_dropped is None:\n",
    "            raise AttributeError('categorical_features_dropped is not defined. Fit the transformer first.')\n",
    "        return X.drop(columns=self.categorical_features_dropped)\n"
   ]
  },
  {
   "cell_type": "code",
   "execution_count": 32,
   "id": "eb4fdad4",
   "metadata": {
    "colab": {
     "base_uri": "https://localhost:8080/"
    },
    "id": "eb4fdad4",
    "outputId": "3c5ff206-72ae-4824-9f64-af6d75187fec"
   },
   "outputs": [
    {
     "name": "stdout",
     "output_type": "stream",
     "text": [
      "GroupICD9IntoCatefories.fit()\n",
      "GroupICD9IntoCatefories.transform()\n",
      "The current shape of the X_train is: (55978, 25)\n",
      "\n",
      "The features dropped by chi-square test are: \n",
      "['max_glu_serum', 'nateglinide', 'chlorpropamide', 'glimepiride', 'glyburide', 'tolbutamide', 'pioglitazone', 'rosiglitazone', 'acarbose', 'miglitol', 'troglitazone', 'tolazamide', 'glyburide-metformin', 'glipizide-metformin', 'metformin-rosiglitazone', 'metformin-pioglitazone']\n"
     ]
    }
   ],
   "source": [
    "obj = DropFeaturesWithLowChi2Pval()\n",
    "obj.fit(X_train2, y_train)\n",
    "X_train3 = obj.transform(X_train2)\n",
    "print(f'The current shape of the X_train is: {X_train3.shape}\\n')\n",
    "print(f'The features dropped by chi-square test are: \\n{obj.categorical_features_dropped}')"
   ]
  },
  {
   "cell_type": "markdown",
   "id": "c7715656",
   "metadata": {
    "id": "c7715656",
    "scrolled": true
   },
   "source": [
    "### 4. Preparing data for modeling<a id=11></a>\n",
    "[back to top](#100)"
   ]
  },
  {
   "cell_type": "markdown",
   "id": "7516cfd0",
   "metadata": {
    "id": "7516cfd0"
   },
   "source": [
    "#### 4.1 Encode categorical features<a id=12></a>"
   ]
  },
  {
   "cell_type": "code",
   "execution_count": 33,
   "id": "9b8fe5d1",
   "metadata": {
    "id": "9b8fe5d1"
   },
   "outputs": [],
   "source": [
    "# create an operation to get dummy varibles of categorical variables\n",
    "class GetDummyVariable(BaseEstimator, TransformerMixin):\n",
    "    def __init__(self, categorical_features=None, drop_first=False):\n",
    "        self.categorical_features = categorical_features\n",
    "        self.drop_first = drop_first\n",
    "        \n",
    "    def replace_illegal_name(self, X_train_dummies):\n",
    "        # replace '[', ']' and '<' because they are invalud as column names in xgboost\n",
    "        # replace '[' with '('; '<' with 'less than'; '>' with 'greater than'\n",
    "        for s in X_train_dummies.columns:\n",
    "            new_name = re.sub(r'\\[', '(', s)\n",
    "            X_train_dummies.rename(columns={s:new_name},inplace=True)\n",
    "\n",
    "        for s in X_train_dummies.columns:\n",
    "            new_name = re.sub(r'\\<', 'less_than', s)\n",
    "            X_train_dummies.rename(columns={s:new_name},inplace=True)\n",
    "\n",
    "        for s in X_train_dummies.columns:\n",
    "            new_name = re.sub(r'\\>', 'greater_than', s)\n",
    "            X_train_dummies.rename(columns={s:new_name},inplace=True)\n",
    "        return X_train_dummies\n",
    "    \n",
    "    def fit(self, X, y):\n",
    "        # get categorical features\n",
    "        self.categorical_features = [col for col in X.columns if X[col].dtype.name in ('category', 'object')] \n",
    "        return self\n",
    "    \n",
    "    def transform(self, X):\n",
    "        # get dummy variables\n",
    "        X_dummies = pd.get_dummies(X, columns=self.categorical_features,drop_first=self.drop_first)\n",
    "        return self.replace_illegal_name(X_dummies)\n"
   ]
  },
  {
   "cell_type": "code",
   "execution_count": 34,
   "id": "1b969a93",
   "metadata": {
    "id": "1b969a93"
   },
   "outputs": [],
   "source": [
    "obj = GetDummyVariable()\n",
    "obj.fit(X_train3, y)\n",
    "X_train4 = obj.transform(X_train3)"
   ]
  },
  {
   "cell_type": "code",
   "execution_count": 35,
   "id": "5dd71cb6",
   "metadata": {
    "colab": {
     "base_uri": "https://localhost:8080/"
    },
    "id": "5dd71cb6",
    "outputId": "5f26fc82-555c-400f-d511-08b250fa85ba"
   },
   "outputs": [
    {
     "name": "stdout",
     "output_type": "stream",
     "text": [
      "(55978, 112)\n"
     ]
    }
   ],
   "source": [
    "print(X_train4.shape)"
   ]
  },
  {
   "cell_type": "markdown",
   "id": "99dd3366",
   "metadata": {
    "id": "99dd3366"
   },
   "source": [
    "### 5. Modeling<a id=15></a>\n",
    "[back to top](#100)"
   ]
  },
  {
   "cell_type": "markdown",
   "id": "afb48622",
   "metadata": {},
   "source": [
    "#### 5.0 Data Preprocessing using Pipeline<a id =14></a>"
   ]
  },
  {
   "cell_type": "code",
   "execution_count": 36,
   "id": "3c9f64d3",
   "metadata": {},
   "outputs": [
    {
     "name": "stdout",
     "output_type": "stream",
     "text": [
      "GroupICD9IntoCatefories.fit()\n",
      "GroupICD9IntoCatefories.transform()\n",
      "GroupICD9IntoCatefories.transform()\n"
     ]
    }
   ],
   "source": [
    "# pipeline for proprecessing\n",
    "preprocessing_pipeline = Pipeline([\n",
    "    ('impute gender', MyImputer('gender', 'Unknown/Invalid', 'most_frequent')),\n",
    "    ('change ICD9 codes to categories', GroupICD9IntoCatefories()),\n",
    "    ('drop unnecessary features', DropFeatures(drop_list)),\n",
    "    ('group infrequent categories into one category', GroupInfrequentCategories()),\n",
    "    ('drop features due to small pval in chi2 test', DropFeaturesWithLowChi2Pval()),\n",
    "    ('get dummy variable for cateforical variables', GetDummyVariable()),\n",
    "])\n",
    "\n",
    "\n",
    "# training accuracy\n",
    "preprocessing_pipeline.fit(X_train, y_train)\n",
    "X_train_processed = preprocessing_pipeline.transform(X_train)\n"
   ]
  },
  {
   "cell_type": "markdown",
   "id": "e0c5e19c",
   "metadata": {
    "id": "e0c5e19c"
   },
   "source": [
    "#### 5.1 Random Forest<a id=16></a>"
   ]
  },
  {
   "cell_type": "markdown",
   "id": "f6523993",
   "metadata": {},
   "source": [
    "#### 5.1.1 Grid Search"
   ]
  },
  {
   "cell_type": "code",
   "execution_count": 37,
   "id": "62a566fb",
   "metadata": {
    "colab": {
     "base_uri": "https://localhost:8080/"
    },
    "id": "62a566fb",
    "outputId": "fe000012-2394-4ad3-d20a-fcf444ff62de"
   },
   "outputs": [
    {
     "name": "stdout",
     "output_type": "stream",
     "text": [
      "Best parameters:  {'max_depth': None, 'min_samples_leaf': 2, 'min_samples_split': 10, 'n_estimators': 8, 'n_jobs': -1}\n"
     ]
    }
   ],
   "source": [
    "# standardize the data\n",
    "# scaler = StandardScaler()\n",
    "\n",
    "# Fit the scaler to the data and transform the data\n",
    "# X_train_scaled = scaler.fit_transform(X_train4)\n",
    "\n",
    "rfc = RandomForestClassifier()\n",
    "\n",
    "skf = StratifiedKFold(n_splits=5, shuffle=True, random_state=42)\n",
    "\n",
    "\n",
    "rfc_param_grid = {\n",
    "    'n_estimators': [8,10],\n",
    "    'max_depth': [None],\n",
    "    'min_samples_split': [5,10],\n",
    "    'min_samples_leaf': [2],\n",
    "    'n_jobs': [-1],\n",
    "}\n",
    "\n",
    "# initialize GridSearchCV with cross-validation\n",
    "rfc_grid_search = GridSearchCV(rfc, param_grid=rfc_param_grid, cv=skf)\n",
    "\n",
    "# fit the grid search to the training data\n",
    "rfc_grid_search.fit(X_train_processed, y_train)\n",
    "\n",
    "# print the best parameters found\n",
    "print(\"Best parameters: \", rfc_grid_search.best_params_)\n",
    "\n",
    "# best estimator parameters\n",
    "best_rfc = rfc_grid_search.best_estimator_"
   ]
  },
  {
   "cell_type": "markdown",
   "id": "f938bc58",
   "metadata": {},
   "source": [
    "##### 5.1.2 Training score"
   ]
  },
  {
   "cell_type": "code",
   "execution_count": 38,
   "id": "00eec348",
   "metadata": {
    "colab": {
     "base_uri": "https://localhost:8080/"
    },
    "id": "00eec348",
    "outputId": "c45ee696-aafb-4868-d2eb-190f73d2198c"
   },
   "outputs": [
    {
     "name": "stdout",
     "output_type": "stream",
     "text": [
      "Training accuracy: 0.915\n"
     ]
    }
   ],
   "source": [
    "# training accuracy\n",
    "training_score = best_rfc.score(X_train_processed, y_train)\n",
    "print(\"Training accuracy: {:.3f}\".format(training_score))"
   ]
  },
  {
   "cell_type": "code",
   "execution_count": 39,
   "id": "BVZ2pBXZ-jGO",
   "metadata": {
    "colab": {
     "base_uri": "https://localhost:8080/",
     "height": 1000
    },
    "id": "BVZ2pBXZ-jGO",
    "outputId": "245b414e-df83-45dd-b7a8-bdcb171df151"
   },
   "outputs": [],
   "source": [
    "# evaluate the best model on the training data\n",
    "# X_val_processed = preprocessing_pipeline.transform(X_val)\n",
    "# validation_score = best_rfc.score(X_val_processed, y_val)\n",
    "# print(\"Validation accuracy: {:.3f}\".format(validation_score))\n"
   ]
  },
  {
   "cell_type": "markdown",
   "id": "dcb3e258",
   "metadata": {},
   "source": [
    "##### 5.1.3 Prediction "
   ]
  },
  {
   "cell_type": "code",
   "execution_count": 40,
   "id": "6977f816",
   "metadata": {},
   "outputs": [
    {
     "name": "stdout",
     "output_type": "stream",
     "text": [
      "GroupICD9IntoCatefories.transform()\n",
      "Testing accuracy: 0.912\n"
     ]
    }
   ],
   "source": [
    "# predict\n",
    "X_test_processed = preprocessing_pipeline.transform(X_test)\n",
    "training_score = best_rfc.score(X_test_processed, y_test)\n",
    "print(\"Testing accuracy: {:.3f}\".format(training_score))\n"
   ]
  },
  {
   "cell_type": "code",
   "execution_count": 41,
   "id": "3a9c1d3a",
   "metadata": {},
   "outputs": [
    {
     "name": "stdout",
     "output_type": "stream",
     "text": [
      "                         Feature  Importance\n",
      "79                insulin_Steady    0.011481\n",
      "15                   gender_Male    0.011569\n",
      "110             diag_3_new_other    0.011747\n",
      "43         admission_source_id_1    0.011947\n",
      "48         admission_source_id_7    0.012238\n",
      "23                   age_(70-80)    0.012291\n",
      "85        diag_1_new_circulatory    0.012384\n",
      "5               number_emergency    0.012543\n",
      "94        diag_2_new_circulatory    0.012647\n",
      "14                 gender_Female    0.013671\n",
      "103       diag_3_new_circulatory    0.013687\n",
      "34    discharge_disposition_id_1    0.013830\n",
      "4              number_outpatient    0.017313\n",
      "41   discharge_disposition_id_22    0.019037\n",
      "2                 num_procedures    0.034144\n",
      "6               number_inpatient    0.035995\n",
      "7               number_diagnoses    0.036487\n",
      "0               time_in_hospital    0.056584\n",
      "3                num_medications    0.073822\n",
      "1             num_lab_procedures    0.086385\n"
     ]
    },
    {
     "data": {
      "image/png": "[encoded data removed]",
      "text/plain": [
       "<Figure size 1000x600 with 1 Axes>"
      ]
     },
     "metadata": {},
     "output_type": "display_data"
    }
   ],
   "source": [
    "\n",
    "# Create list of top most features based on importance\n",
    "feature_names = X_train_processed.columns\n",
    "feature_imports = best_rfc.feature_importances_\n",
    "most_imp_features = pd.DataFrame([f for f in zip(feature_names,feature_imports)], columns=[\"Feature\", \"Importance\"]).nlargest(20, \"Importance\")\n",
    "most_imp_features.sort_values(by=\"Importance\", inplace=True)\n",
    "print(most_imp_features)\n",
    "plt.figure(figsize=(10,6))\n",
    "plt.barh(range(len(most_imp_features)), most_imp_features.Importance, align='center', alpha=0.8)\n",
    "plt.yticks(range(len(most_imp_features)), most_imp_features.Feature, fontsize=14)\n",
    "plt.xlabel('Importance')\n",
    "plt.title('Most important features - Random Forest')\n",
    "plt.show()"
   ]
  },
  {
   "cell_type": "markdown",
   "id": "dcde00d0",
   "metadata": {
    "id": "dcde00d0"
   },
   "source": [
    "#### 5.2 XGBoost<a id=17></a>"
   ]
  },
  {
   "cell_type": "markdown",
   "id": "be391169",
   "metadata": {
    "id": "be391169"
   },
   "source": [
    "##### 5.2.1 Training"
   ]
  },
  {
   "cell_type": "code",
   "execution_count": 42,
   "id": "45510b39",
   "metadata": {
    "id": "45510b39",
    "outputId": "ca83fb2e-2018-4fd2-a39d-b25847b09161"
   },
   "outputs": [
    {
     "name": "stdout",
     "output_type": "stream",
     "text": [
      "Best parameters:  {'colsample_bytree': 0.5, 'learning_rate': 0.1, 'max_depth': 3, 'n_estimators': 100, 'subsample': 0.5}\n"
     ]
    }
   ],
   "source": [
    "# initialize XGBoost classifier\n",
    "xgc = XGBClassifier(objective=\"binary:hinge\", random_state=2022)\n",
    "\n",
    "# define the parameter grid to search over\n",
    "xgc_param_grid = {\n",
    "    'n_estimators': [100],\n",
    "    'max_depth': [3,5],\n",
    "    'learning_rate': [0.1],\n",
    "    'subsample': [0.5],\n",
    "    'colsample_bytree': [0.5],\n",
    "}\n",
    "\n",
    "# initialize GridSearchCV with cross-validation\n",
    "xgc_grid_search = GridSearchCV(xgc, param_grid=xgc_param_grid, cv=5)\n",
    "\n",
    "# fit the grid search to the training data\n",
    "xgc_grid_search.fit(X_train_processed, y_train)\n",
    "\n",
    "# print the best parameters found\n",
    "print(\"Best parameters: \", xgc_grid_search.best_params_)\n",
    "\n",
    "# best estimator parameters\n",
    "best_xgc = xgc_grid_search.best_estimator_"
   ]
  },
  {
   "cell_type": "code",
   "execution_count": 43,
   "id": "a60bea34",
   "metadata": {
    "id": "a60bea34",
    "outputId": "2b5f04c7-52d9-4c3f-abb5-cf3aa42a6dbe"
   },
   "outputs": [
    {
     "name": "stdout",
     "output_type": "stream",
     "text": [
      "Training accuracy: 0.910\n"
     ]
    }
   ],
   "source": [
    "# evaluate the best model on the training data\n",
    "training_score = best_xgc.score(X_train_processed, y_train)\n",
    "print(\"Training accuracy: {:.3f}\".format(training_score))"
   ]
  },
  {
   "cell_type": "code",
   "execution_count": 44,
   "id": "8e9037cb",
   "metadata": {},
   "outputs": [],
   "source": [
    "# evaluate the best model on the validation data\n",
    "# X_val_processed = preprocessing_pipeline.transform(X_val)\n",
    "# valdation_score = best_rfc.score(X_val_processed, y_val)\n",
    "# print(\"Validation accuracy: {:.3f}\".format(valdation_score))\n"
   ]
  },
  {
   "cell_type": "markdown",
   "id": "bcaf2fc5",
   "metadata": {
    "id": "bcaf2fc5"
   },
   "source": [
    "##### 5.2.2 predict"
   ]
  },
  {
   "cell_type": "code",
   "execution_count": 45,
   "id": "93455cff",
   "metadata": {
    "id": "93455cff",
    "outputId": "c825c0bf-97b2-4db0-f67c-0dfaecf838f9"
   },
   "outputs": [
    {
     "name": "stdout",
     "output_type": "stream",
     "text": [
      "GroupICD9IntoCatefories.transform()\n",
      "Test accuracy: 0.912\n"
     ]
    }
   ],
   "source": [
    "# evaluate the best model on the test data\n",
    "X_test_preprocessed = preprocessing_pipeline.transform(X_test)\n",
    "test_score = best_xgc.score(X_test_preprocessed, y_test)\n",
    "print(\"Test accuracy: {:.3f}\".format(test_score))"
   ]
  },
  {
   "cell_type": "code",
   "execution_count": 46,
   "id": "e3ac28f1",
   "metadata": {},
   "outputs": [
    {
     "name": "stdout",
     "output_type": "stream",
     "text": [
      "                        Feature  Importance\n",
      "91         diag_1_new_neoplasms    0.011180\n",
      "8                        race_?    0.011489\n",
      "31          admission_type_id_6    0.011522\n",
      "24                  age_(80-90)    0.012413\n",
      "85       diag_1_new_circulatory    0.013884\n",
      "19                  age_(30-40)    0.014674\n",
      "5              number_emergency    0.014814\n",
      "25                 age_(90-100)    0.018610\n",
      "7              number_diagnoses    0.019932\n",
      "62      A1Cresult_greater_than8    0.020277\n",
      "6              number_inpatient    0.021519\n",
      "37   discharge_disposition_id_0    0.024338\n",
      "38   discharge_disposition_id_5    0.030712\n",
      "40  discharge_disposition_id_18    0.033579\n",
      "63               A1Cresult_None    0.033755\n",
      "39   discharge_disposition_id_6    0.034641\n",
      "41  discharge_disposition_id_22    0.035106\n",
      "34   discharge_disposition_id_1    0.042473\n",
      "22                  age_(60-70)    0.045538\n",
      "1            num_lab_procedures    0.046941\n",
      "36   discharge_disposition_id_3    0.052523\n",
      "23                  age_(70-80)    0.057593\n",
      "21                  age_(50-60)    0.059569\n",
      "20                  age_(40-50)    0.061385\n",
      "0              time_in_hospital    0.064030\n"
     ]
    },
    {
     "data": {
      "image/png": "[encoded data removed]",
      "text/plain": [
       "<Figure size 1000x600 with 1 Axes>"
      ]
     },
     "metadata": {},
     "output_type": "display_data"
    }
   ],
   "source": [
    "# Create list of top most features based on importance\n",
    "feature_names = X_train_processed.columns\n",
    "feature_imports = best_xgc.feature_importances_\n",
    "most_imp_features = pd.DataFrame([f for f in zip(feature_names,feature_imports)], columns=[\"Feature\", \"Importance\"]).nlargest(25, \"Importance\")\n",
    "most_imp_features.sort_values(by=\"Importance\", inplace=True)\n",
    "print(most_imp_features)\n",
    "plt.figure(figsize=(10,6))\n",
    "plt.barh(range(len(most_imp_features)), most_imp_features.Importance, align='center', alpha=0.8)\n",
    "plt.yticks(range(len(most_imp_features)), most_imp_features.Feature, fontsize=14)\n",
    "plt.xlabel('Importance')\n",
    "plt.title('Most important features - XGBoost')\n",
    "plt.show()"
   ]
  },
  {
   "cell_type": "markdown",
   "id": "38b917e2",
   "metadata": {},
   "source": [
    "#### 5.3 Logistic Regression"
   ]
  },
  {
   "cell_type": "code",
   "execution_count": 47,
   "id": "8883e91e",
   "metadata": {},
   "outputs": [],
   "source": [
    "# create an operation to group infrequent values into one a single category\n",
    "class MyStandardScaler(BaseEstimator, TransformerMixin): \n",
    "    def __init__(self, scaler):\n",
    "        self.scaler = scaler\n",
    "        \n",
    "    def fit(self, X, y):\n",
    "        self.scaler.fit(X)\n",
    "        return self\n",
    "    \n",
    "    def transform(self, X):\n",
    "        new_X = self.scaler.transform(X)\n",
    "        return pd.DataFrame(new_X, columns=X.columns)"
   ]
  },
  {
   "cell_type": "code",
   "execution_count": 48,
   "id": "1f790624",
   "metadata": {},
   "outputs": [
    {
     "name": "stdout",
     "output_type": "stream",
     "text": [
      "GroupICD9IntoCatefories.fit()\n",
      "GroupICD9IntoCatefories.transform()\n",
      "GroupICD9IntoCatefories.transform()\n",
      "Best parameters:  {'C': 1, 'class_weight': None, 'penalty': 'l2', 'random_state': 2222, 'solver': 'newton-cholesky'}\n"
     ]
    }
   ],
   "source": [
    "# pipeline for proprecessing\n",
    "preprocessing_pipeline_lgr = Pipeline([\n",
    "    ('impute gender', MyImputer('gender', 'Unknown/Invalid', 'most_frequent')),\n",
    "    ('change ICD9 codes to categories', GroupICD9IntoCatefories()),\n",
    "    ('drop unnecessary features', DropFeatures(drop_list)),\n",
    "    ('group infrequent categories into one category', GroupInfrequentCategories()),\n",
    "    ('drop features due to small pval in chi2 test', DropFeaturesWithLowChi2Pval()),\n",
    "    ('get dummy variable for cateforical variables', GetDummyVariable(drop_first=True)),\n",
    "    ('scale', MyStandardScaler(StandardScaler()))\n",
    "])\n",
    "\n",
    "preprocessing_pipeline_lgr.fit(X_train, y_train)\n",
    "X_train_processed_lgr = preprocessing_pipeline_lgr.transform(X_train)\n",
    "\n",
    "# initialize XGBoost classifier\n",
    "lgr = LogisticRegression()\n",
    "\n",
    "# define the parameter grid to search over\n",
    "lgr_param_grid = {\n",
    "    'penalty': ['l2'],\n",
    "    'C': [1],\n",
    "    'class_weight': [None,'balanced'],\n",
    "    'solver': ['newton-cholesky', 'liblinear'],\n",
    "    'random_state': [2222],\n",
    "}\n",
    "\n",
    "# initialize GridSearchCV with cross-validation\n",
    "lgr_grid_search = GridSearchCV(lgr, param_grid=lgr_param_grid, cv=5)\n",
    "\n",
    "# fit the grid search to the training data\n",
    "lgr_grid_search.fit(X_train_processed_lgr, y_train)\n",
    "\n",
    "# print the best parameters found\n",
    "print(\"Best parameters: \", lgr_grid_search.best_params_)\n",
    "\n",
    "# best estimator parameters\n",
    "best_lgr = lgr_grid_search.best_estimator_"
   ]
  },
  {
   "cell_type": "code",
   "execution_count": 49,
   "id": "97847892",
   "metadata": {},
   "outputs": [
    {
     "name": "stdout",
     "output_type": "stream",
     "text": [
      "Training accuracy: 0.910\n"
     ]
    }
   ],
   "source": [
    "# evaluate the best model on the training data\n",
    "training_score = best_lgr.score(X_train_processed_lgr, y_train)\n",
    "print(\"Training accuracy: {:.3f}\".format(training_score))"
   ]
  },
  {
   "cell_type": "code",
   "execution_count": 50,
   "id": "5ea1f69c",
   "metadata": {},
   "outputs": [],
   "source": [
    "# evaluate the best model on the validation data\n",
    "# X_val_processed = preprocessing_pipeline_lgr.transform(X_val)\n",
    "# valdation_score = best_lgr.score(X_val_processed, y_val)\n",
    "# print(\"Validation accuracy: {:.3f}\".format(valdation_score))\n"
   ]
  },
  {
   "cell_type": "markdown",
   "id": "fa4a3700",
   "metadata": {},
   "source": [
    "##### prediction"
   ]
  },
  {
   "cell_type": "code",
   "execution_count": 51,
   "id": "a89a4c93",
   "metadata": {},
   "outputs": [
    {
     "name": "stdout",
     "output_type": "stream",
     "text": [
      "GroupICD9IntoCatefories.transform()\n",
      "Test accuracy: 0.912\n"
     ]
    }
   ],
   "source": [
    "# evaluate the best model on the test data\n",
    "X_test_preprocessed = preprocessing_pipeline_lgr.transform(X_test)\n",
    "test_score = best_lgr.score(X_test_preprocessed, y_test)\n",
    "print(\"Test accuracy: {:.3f}\".format(test_score))"
   ]
  },
  {
   "cell_type": "markdown",
   "id": "f8a616e6",
   "metadata": {},
   "source": [
    "##### The Most important features "
   ]
  },
  {
   "cell_type": "code",
   "execution_count": 54,
   "id": "21bd62ac",
   "metadata": {
    "scrolled": true
   },
   "outputs": [
    {
     "data": {
      "text/html": [
       "<div>\n",
       "<style scoped>\n",
       "    .dataframe tbody tr th:only-of-type {\n",
       "        vertical-align: middle;\n",
       "    }\n",
       "\n",
       "    .dataframe tbody tr th {\n",
       "        vertical-align: top;\n",
       "    }\n",
       "\n",
       "    .dataframe thead th {\n",
       "        text-align: right;\n",
       "    }\n",
       "</style>\n",
       "<table border=\"1\" class=\"dataframe\">\n",
       "  <thead>\n",
       "    <tr style=\"text-align: right;\">\n",
       "      <th></th>\n",
       "      <th>coefficient</th>\n",
       "    </tr>\n",
       "  </thead>\n",
       "  <tbody>\n",
       "    <tr>\n",
       "      <th>age_(70-80)</th>\n",
       "      <td>-0.329059</td>\n",
       "    </tr>\n",
       "    <tr>\n",
       "      <th>age_(60-70)</th>\n",
       "      <td>-0.294600</td>\n",
       "    </tr>\n",
       "    <tr>\n",
       "      <th>age_(80-90)</th>\n",
       "      <td>-0.260274</td>\n",
       "    </tr>\n",
       "    <tr>\n",
       "      <th>discharge_disposition_id_22</th>\n",
       "      <td>-0.231764</td>\n",
       "    </tr>\n",
       "    <tr>\n",
       "      <th>discharge_disposition_id_3</th>\n",
       "      <td>-0.208817</td>\n",
       "    </tr>\n",
       "    <tr>\n",
       "      <th>number_inpatient</th>\n",
       "      <td>-0.198227</td>\n",
       "    </tr>\n",
       "    <tr>\n",
       "      <th>age_(50-60)</th>\n",
       "      <td>-0.185467</td>\n",
       "    </tr>\n",
       "    <tr>\n",
       "      <th>age_(40-50)</th>\n",
       "      <td>-0.174894</td>\n",
       "    </tr>\n",
       "    <tr>\n",
       "      <th>discharge_disposition_id_5</th>\n",
       "      <td>-0.137014</td>\n",
       "    </tr>\n",
       "    <tr>\n",
       "      <th>age_(30-40)</th>\n",
       "      <td>-0.108390</td>\n",
       "    </tr>\n",
       "    <tr>\n",
       "      <th>diabetesMed_Yes</th>\n",
       "      <td>-0.104985</td>\n",
       "    </tr>\n",
       "    <tr>\n",
       "      <th>discharge_disposition_id_18</th>\n",
       "      <td>-0.092444</td>\n",
       "    </tr>\n",
       "    <tr>\n",
       "      <th>repaglinide_Steady</th>\n",
       "      <td>-0.091501</td>\n",
       "    </tr>\n",
       "    <tr>\n",
       "      <th>discharge_disposition_id_2</th>\n",
       "      <td>-0.088046</td>\n",
       "    </tr>\n",
       "    <tr>\n",
       "      <th>number_diagnoses</th>\n",
       "      <td>-0.083721</td>\n",
       "    </tr>\n",
       "    <tr>\n",
       "      <th>age_(20-30)</th>\n",
       "      <td>-0.076226</td>\n",
       "    </tr>\n",
       "    <tr>\n",
       "      <th>discharge_disposition_id_0</th>\n",
       "      <td>-0.075754</td>\n",
       "    </tr>\n",
       "    <tr>\n",
       "      <th>age_(90-100)</th>\n",
       "      <td>-0.070148</td>\n",
       "    </tr>\n",
       "    <tr>\n",
       "      <th>repaglinide_No</th>\n",
       "      <td>-0.065341</td>\n",
       "    </tr>\n",
       "    <tr>\n",
       "      <th>admission_type_id_6</th>\n",
       "      <td>-0.059047</td>\n",
       "    </tr>\n",
       "    <tr>\n",
       "      <th>diag_2_new_neoplasms</th>\n",
       "      <td>-0.055782</td>\n",
       "    </tr>\n",
       "    <tr>\n",
       "      <th>number_emergency</th>\n",
       "      <td>-0.052607</td>\n",
       "    </tr>\n",
       "    <tr>\n",
       "      <th>discharge_disposition_id_6</th>\n",
       "      <td>-0.052219</td>\n",
       "    </tr>\n",
       "    <tr>\n",
       "      <th>diag_2_new_diabetes</th>\n",
       "      <td>-0.050033</td>\n",
       "    </tr>\n",
       "    <tr>\n",
       "      <th>repaglinide_Up</th>\n",
       "      <td>-0.047843</td>\n",
       "    </tr>\n",
       "    <tr>\n",
       "      <th>age_(10-20)</th>\n",
       "      <td>-0.037654</td>\n",
       "    </tr>\n",
       "    <tr>\n",
       "      <th>change_No</th>\n",
       "      <td>-0.034871</td>\n",
       "    </tr>\n",
       "    <tr>\n",
       "      <th>diag_3_new_diabetes</th>\n",
       "      <td>-0.034755</td>\n",
       "    </tr>\n",
       "    <tr>\n",
       "      <th>race_Caucasian</th>\n",
       "      <td>-0.033812</td>\n",
       "    </tr>\n",
       "    <tr>\n",
       "      <th>A1Cresult_None</th>\n",
       "      <td>-0.028709</td>\n",
       "    </tr>\n",
       "  </tbody>\n",
       "</table>\n",
       "</div>"
      ],
      "text/plain": [
       "                             coefficient\n",
       "age_(70-80)                    -0.329059\n",
       "age_(60-70)                    -0.294600\n",
       "age_(80-90)                    -0.260274\n",
       "discharge_disposition_id_22    -0.231764\n",
       "discharge_disposition_id_3     -0.208817\n",
       "number_inpatient               -0.198227\n",
       "age_(50-60)                    -0.185467\n",
       "age_(40-50)                    -0.174894\n",
       "discharge_disposition_id_5     -0.137014\n",
       "age_(30-40)                    -0.108390\n",
       "diabetesMed_Yes                -0.104985\n",
       "discharge_disposition_id_18    -0.092444\n",
       "repaglinide_Steady             -0.091501\n",
       "discharge_disposition_id_2     -0.088046\n",
       "number_diagnoses               -0.083721\n",
       "age_(20-30)                    -0.076226\n",
       "discharge_disposition_id_0     -0.075754\n",
       "age_(90-100)                   -0.070148\n",
       "repaglinide_No                 -0.065341\n",
       "admission_type_id_6            -0.059047\n",
       "diag_2_new_neoplasms           -0.055782\n",
       "number_emergency               -0.052607\n",
       "discharge_disposition_id_6     -0.052219\n",
       "diag_2_new_diabetes            -0.050033\n",
       "repaglinide_Up                 -0.047843\n",
       "age_(10-20)                    -0.037654\n",
       "change_No                      -0.034871\n",
       "diag_3_new_diabetes            -0.034755\n",
       "race_Caucasian                 -0.033812\n",
       "A1Cresult_None                 -0.028709"
      ]
     },
     "execution_count": 54,
     "metadata": {},
     "output_type": "execute_result"
    }
   ],
   "source": [
    "res = pd.DataFrame(best_lgr.coef_[0], index = X_train_processed_lgr.columns,columns=['coefficient'])\n",
    "res.sort_values(by='coefficient')[:30]"
   ]
  },
  {
   "cell_type": "markdown",
   "id": "452f02ab",
   "metadata": {},
   "source": [
    "### 6. Conclusions<a id=20></a>\n",
    "[back to top](#100)"
   ]
  },
  {
   "cell_type": "markdown",
   "id": "3ade3fbe",
   "metadata": {},
   "source": [
    "This study is based on information extracted from the dataset representing 10 years (1999–2008) of clinical care at 130 hospitals. More information about the dataset can be found on [UCI Machine Learning Repository](http://archive.ics.uci.edu/ml/datasets/Diabetes+130-US+hospitals+for+years+1999-2008).\n",
    "\n",
    "The original dataset has shape 101766x50, with one response variable readmission which records three categories: readmitted within 30 days, readmitted over 30 days and not readmitted. Since I think there are more variability in not readmitted category, I defined the readmission variable as having two values: '<30', if patients are readmitted within 30 days; 'other', which includes patients are readmitted over 30 days and not readmitted at all.\n",
    "\n",
    "Since the original dataset contains lots of redundent and noisy information, several preporcessing steps were applied to this dataset. \n",
    "\n",
    "- Drop encounters that are redudent or nosiy. In this step, first I removed all encounters that resulted in either discharge to a hospice(corresponeds to discharge_disposition_id=[13,14,19,20,26]) or patient death (correspondes to discharge_disposition_id=11) to avoid biasing our analysis.Then I selected only one encounter per patient which by patient id. This means only the first encounter for each patient as the primary admission was considered.\n",
    "\n",
    "- Split Dataset into Training and Testing. The dataset was splited as 20% test set and 80% training set.\n",
    "\n",
    "- Group the categories from ICD-9 based on common attributes. This step is to reduce the categories appeared in 'diag_1', 'diag_2' and 'diag_3' as they are ICD-9-CM codes. According to table 2 from [Beata Strack's paper](https://www.hindawi.com/journals/bmri/2014/781670/#B9), I group these codes into 9 categories.\n",
    "\n",
    "- Feature Selection: In this step, chi-square tests were conducted for each categoical feature against the response variable. Features that have p-values over 0.01 are dropped.\n",
    "\n",
    "- Before putting data into model, categorical features were all turned into dummy variables.\n",
    "\n",
    "At the modeling part, three models: Random Forest, XGBoost and Logistic Regression were applied. Considering that these models have similar predicting accuracy while logistic regression model is more interpretable as opposed to tree based models, it could be used to help provide clinicans more information about whether a patient would be readmitted within 30 days. Specifically, elderly people aged 70+ have higher weights which is reasonable. Apart from discharge type and number_inpatient, medical speciality like repaglinide is and A1Cresult also appears important to readmission.\n",
    "\n",
    "\n"
   ]
  },
  {
   "cell_type": "markdown",
   "id": "884a42fa",
   "metadata": {},
   "source": [
    "### 7. Reference<a id=19></a>\n",
    "[back to top](#100)"
   ]
  },
  {
   "cell_type": "markdown",
   "id": "2c9a297f",
   "metadata": {},
   "source": [
    "#### ID mapping"
   ]
  },
  {
   "cell_type": "markdown",
   "id": "e972937c",
   "metadata": {
    "id": "e972937c"
   },
   "source": [
    "\n",
    "`admission_type_id` - admission type - \\\n",
    "    Emergency = 1, \\\n",
    "    Urgent = 2, \\\n",
    "    Elective = 3, \\\n",
    "    Newborn = 4, \\\n",
    "    Not Available = 5, \\\n",
    "    Null = 6, \\\n",
    "    Trauma Center = 7, \\\n",
    "    Not Mapped = 8 \\\n",
    "\n",
    "`discharge_disposition_id`  - Discharge disposition - \\\n",
    "Discharged to home = 1, \\\n",
    "Discharged/transferred to another short term hospital = 2,\\\n",
    "Discharged/transferred to SNF = 3, \\\n",
    "Discharged/transferred to ICF = 4, \\\n",
    "Discharged/transferred to another type of inpatient care institution = 5, \\\n",
    "Discharged/transferred to home with home health service = 6, \\\n",
    "Left AMA = 7, \\\n",
    "Discharged/transferred to home under care of Home IV provider = 8, \\\n",
    "Admitted as an inpatient to this hospital = 9, \\\n",
    "Neonate discharged to another hospital for neonatal aftercare = 10, \\\n",
    "Expired = 11, \\\n",
    "Still patient or expected to return for outpatient services = 12, \\\n",
    "Hospice / home = 13, \\\n",
    "Hospice / medical facility = 14, \\\n",
    "Discharged/transferred within this institution to Medicare approved swing bed = 15, \\\n",
    "Discharged/transferred/referred another institution for outpatient services = 16, \\\n",
    "Discharged/transferred/referred to this institution for outpatient services = 17, \\\n",
    "NULL = 18, \\\n",
    "Expired at home. Medicaid only, hospice. = 19, \\\n",
    "Expired in a medical facility. Medicaid only, hospice. = 20, \\\n",
    "Discharged/transferred to another rehab fac including rehab units of a hospital . = 22, \\\n",
    "Discharged/transferred to a long term care hospital. = 23, \\\n",
    "Discharged/transferred to a nursing facility certified under Medicaid but not certified under Medicare. = 24, \\\n",
    "Not Mapped = 25, \\\n",
    "Unknown/Invalid = 26, \\\n",
    "Discharged/transferred to a federal health care facility. = 27, \\\n",
    "Discharged/transferred/referred to a psychiatric hospital of psychiatric distinct part unit of a hospital = 28, \\\n",
    "Discharged/transferred to a Critical Access Hospital (CAH). = 29, \\\n",
    "Discharged/transferred to another Type of Health Care Institution not Defined Elsewhere = 30, \n",
    "\n",
    "`admission_source_id` - admission source - \\\n",
    "Physician Referral = 1, \\\n",
    "Clinic Referral = 2, \\\n",
    "HMO Referral = 3, \\\n",
    "Transfer from a hospital = 4, \\\n",
    " Transfer from a Skilled Nursing Facility (SNF) = 5, \\\n",
    " Transfer from another health care facility = 6, \\\n",
    " Emergency Room = 7, \\\n",
    " Court/Law Enforcement = 8, \\\n",
    " Not Available = 9, \\\n",
    " Transfer from critial access hospital = 10, \\\n",
    "Normal Delivery = 11, \\\n",
    " Premature Delivery = 12, \\\n",
    " Sick Baby = 13, \\\n",
    " Extramural Birth = 14, \\\n",
    "Not Available = 15, \\\n",
    "NULL = 17, \\\n",
    " Transfer From Another Home Health Agency = 18, \\\n",
    "Readmission to Same Home Health Agency = 19, \\\n",
    " Not Mapped = 20, \\\n",
    "Unknown/Invalid = 21, \\\n",
    " Transfer from hospital inpt/same fac reslt in a sep claim = 22, \\\n",
    " Born inside this hospital = 23, \\\n",
    " Born outside this hospital = 24, \\\n",
    " Transfer from Ambulatory Surgery Center = 25, \\\n",
    "Transfer from Hospice = 26,\n",
    " "
   ]
  }
 ],
 "metadata": {
  "colab": {
   "provenance": []
  },
  "kernelspec": {
   "display_name": "Python 3 (ipykernel)",
   "language": "python",
   "name": "python3"
  },
  "language_info": {
   "codemirror_mode": {
    "name": "ipython",
    "version": 3
   },
   "file_extension": ".py",
   "mimetype": "text/x-python",
   "name": "python",
   "nbconvert_exporter": "python",
   "pygments_lexer": "ipython3",
   "version": "3.9.7"
  },
  "toc": {
   "base_numbering": 1,
   "nav_menu": {
    "height": "209px",
    "width": "348px"
   },
   "number_sections": true,
   "sideBar": true,
   "skip_h1_title": false,
   "title_cell": "Table of Contents",
   "title_sidebar": "Contents",
   "toc_cell": false,
   "toc_position": {
    "height": "calc(100% - 180px)",
    "left": "10px",
    "top": "150px",
    "width": "212px"
   },
   "toc_section_display": true,
   "toc_window_display": false
  }
 },
 "nbformat": 4,
 "nbformat_minor": 5
}
